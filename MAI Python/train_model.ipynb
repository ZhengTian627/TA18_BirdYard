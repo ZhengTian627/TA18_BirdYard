{
 "cells": [
  {
   "cell_type": "markdown",
   "id": "129eb0a2-ecc0-4b46-8e4e-8ed40cd61d0b",
   "metadata": {},
   "source": [
    "# Endangered-birds detection model training"
   ]
  },
  {
   "cell_type": "markdown",
   "id": "f2c0bb60-c02f-45ae-95ad-d05ee0b3f202",
   "metadata": {},
   "source": [
    "## Import Libraries"
   ]
  },
  {
   "cell_type": "code",
   "execution_count": 14,
   "id": "cfe81b46-5c01-4274-929a-27084a43358c",
   "metadata": {},
   "outputs": [],
   "source": [
    "# --- Standard Libraries ---\n",
    "import os\n",
    "import warnings\n",
    "import yaml  # To potentially inspect the data.yaml\n",
    "import traceback # To print error details\n",
    "from pathlib import Path\n",
    "import glob # To find image files in a directory\n",
    "from collections import defaultdict\n",
    "import time # To add a small delay if needed\n",
    "\n",
    "# --- Third-party Libraries ---\n",
    "from ultralytics import YOLO\n",
    "import torch\n",
    "import pandas as pd # Useful for analyzing results"
   ]
  },
  {
   "cell_type": "markdown",
   "id": "8a7660ad-3c59-42fc-943b-8b78638ff3b4",
   "metadata": {},
   "source": [
    "## Configuration"
   ]
  },
  {
   "cell_type": "code",
   "execution_count": 15,
   "id": "1bbdc604-275e-4a66-b7f8-5a0dd63020bc",
   "metadata": {},
   "outputs": [],
   "source": [
    "# --- Configuration ---\n",
    "# Path to the base pre-trained model\n",
    "base_model_path = 'yolo11n.pt'\n",
    "\n",
    "# Path to your dataset configuration YAML file\n",
    "# **MAI Requirement:** Ensure this YAML defines 'train', 'val', and ideally a 'test' split.\n",
    "data_yaml_path = './datasets/bird_dataset_yolo/data.yaml'\n",
    "# Example data.yaml structure:\n",
    "# train: ../train/images\n",
    "# val: ../valid/images\n",
    "# test: ../test/images  # Optional but recommended for final evaluation\n",
    "# nc: 5  # number of classes\n",
    "# names: ['BirdA', 'BirdB', 'BirdC', 'BirdD', 'EndangeredBirdX'] # Class names\n",
    "\n",
    "# Training parameters\n",
    "num_epochs = 100\n",
    "image_size = 320\n",
    "batch_size = 32\n",
    "run_name = 'birds_320_python_run1_noprint' # Updated run name slightly\n",
    "device_to_use = 'cuda' if torch.cuda.is_available() else 'cpu' # Auto-detect GPU or use CPU\n",
    "\n",
    "# Evaluation & Robustness Configuration\n",
    "evaluate_on_test_set = True # Set to True if you have a 'test' split in data.yaml\n",
    "confidence_threshold = 0.25 # Confidence threshold for evaluation/prediction\n",
    "iou_threshold = 0.5       # IoU threshold for NMS and mAP calculation"
   ]
  },
  {
   "cell_type": "markdown",
   "id": "f0f246a9-c3d7-41c1-9ef2-9331eed85a71",
   "metadata": {},
   "source": [
    "## Helper Function"
   ]
  },
  {
   "cell_type": "code",
   "execution_count": 16,
   "id": "5af275db-9ee2-4b2a-a63d-c0236dc59256",
   "metadata": {},
   "outputs": [],
   "source": [
    "# --- Helper Functions ---\n",
    "def check_dataset_yaml(yaml_path):\n",
    "    \"\"\"Checks if the dataset YAML file exists and has expected keys (using print).\"\"\"\n",
    "    if not os.path.exists(yaml_path):\n",
    "        print(f\"ERROR: Dataset YAML not found at: {yaml_path}\")\n",
    "        return False, None\n",
    "    try:\n",
    "        with open(yaml_path, 'r') as f:\n",
    "            data_config = yaml.safe_load(f)\n",
    "        required_keys = ['train', 'val', 'nc', 'names']\n",
    "        missing_keys = [key for key in required_keys if key not in data_config]\n",
    "        if missing_keys:\n",
    "            print(f\"ERROR: Dataset YAML ({yaml_path}) is missing required keys: {missing_keys}\")\n",
    "            return False, None\n",
    "        if 'test' not in data_config:\n",
    "             print(f\"WARNING: Dataset YAML ({yaml_path}) does not define a 'test' split. Final evaluation will use the 'val' split.\")\n",
    "        print(f\"Dataset YAML loaded successfully from: {yaml_path}\")\n",
    "        print(f\"Number of classes (nc): {data_config.get('nc')}\")\n",
    "        print(f\"Class names: {data_config.get('names')}\")\n",
    "        return True, data_config\n",
    "    except Exception as e:\n",
    "        print(f\"ERROR: Error reading or parsing dataset YAML ({yaml_path}): {e}\")\n",
    "        print(\"Traceback:\")\n",
    "        traceback.print_exc()\n",
    "        return False, None"
   ]
  },
  {
   "cell_type": "markdown",
   "id": "c9ce47b4-4cda-4949-a6cf-564d4f3618d7",
   "metadata": {},
   "source": [
    "## Execution"
   ]
  },
  {
   "cell_type": "code",
   "execution_count": 17,
   "id": "c5f33a08-6c73-4d6f-9c81-c875361192e8",
   "metadata": {
    "scrolled": true
   },
   "outputs": [
    {
     "name": "stdout",
     "output_type": "stream",
     "text": [
      "=============================================\n",
      " Starting YOLOv8 Training & Evaluation Script\n",
      "=============================================\n",
      "Configuration:\n",
      "  Base Model: yolo11n.pt\n",
      "  Dataset YAML: ./datasets/bird_dataset_yolo/data.yaml\n",
      "  Epochs: 100\n",
      "  Image Size: 320\n",
      "  Batch Size: 32\n",
      "  Run Name: birds_320_python_run1_noprint\n",
      "  Device: cuda\n",
      "  Evaluate on Test Set: True\n",
      "  Confidence Threshold: 0.25\n",
      "  IoU Threshold: 0.5\n",
      "\n",
      "--- Checking Dataset Configuration ---\n",
      "WARNING: Dataset YAML (./datasets/bird_dataset_yolo/data.yaml) does not define a 'test' split. Final evaluation will use the 'val' split.\n",
      "Dataset YAML loaded successfully from: ./datasets/bird_dataset_yolo/data.yaml\n",
      "Number of classes (nc): 10\n",
      "Class names: ['Australasian_Bittern', 'Australian_Painted_Snipe', 'Gang-gang_Cockatoo', 'Grey_Falcon', 'Painted_Honeyeater', 'Pilotbird', 'Plains_Wanderer', 'Southern_Whiteface', 'Swift_Parrot', 'White-throated_Needletail']\n",
      "\n",
      "--- Checking Device ---\n",
      "Using device: cuda\n",
      "\n",
      "--- Loading Base Model ---\n",
      "Downloading https://github.com/ultralytics/assets/releases/download/v8.3.0/yolo11n.pt to 'yolo11n.pt'...\n"
     ]
    },
    {
     "name": "stderr",
     "output_type": "stream",
     "text": [
      "100%|██████████| 5.35M/5.35M [00:00<00:00, 13.5MB/s]"
     ]
    },
    {
     "name": "stdout",
     "output_type": "stream",
     "text": [
      "Loaded base model: yolo11n.pt\n",
      "\n",
      "--- Initiating Training ---\n",
      "New https://pypi.org/project/ultralytics/8.3.105 available  Update with 'pip install -U ultralytics'\n"
     ]
    },
    {
     "name": "stderr",
     "output_type": "stream",
     "text": [
      "\n"
     ]
    },
    {
     "name": "stdout",
     "output_type": "stream",
     "text": [
      "Ultralytics 8.3.101  Python-3.12.9 torch-2.6.0+cu118 CUDA:0 (NVIDIA GeForce RTX 2060 SUPER, 8192MiB)\n",
      "\u001b[34m\u001b[1mengine\\trainer: \u001b[0mtask=detect, mode=train, model=yolo11n.pt, data=./datasets/bird_dataset_yolo/data.yaml, epochs=100, time=None, patience=20, batch=32, imgsz=320, save=True, save_period=-1, cache=False, device=cuda, workers=8, project=None, name=birds_320_python_run1_noprint10, exist_ok=False, pretrained=True, optimizer=auto, verbose=True, seed=0, deterministic=True, single_cls=False, rect=False, cos_lr=False, close_mosaic=10, resume=False, amp=True, fraction=1.0, profile=False, freeze=None, multi_scale=False, overlap_mask=True, mask_ratio=4, dropout=0.0, val=True, split=val, save_json=False, save_hybrid=False, conf=None, iou=0.7, max_det=300, half=False, dnn=False, plots=True, source=None, vid_stride=1, stream_buffer=False, visualize=False, augment=False, agnostic_nms=False, classes=None, retina_masks=False, embed=None, show=False, save_frames=False, save_txt=False, save_conf=False, save_crop=False, show_labels=True, show_conf=True, show_boxes=True, line_width=None, format=torchscript, keras=False, optimize=False, int8=False, dynamic=False, simplify=True, opset=None, workspace=None, nms=False, lr0=0.01, lrf=0.01, momentum=0.937, weight_decay=0.0005, warmup_epochs=3.0, warmup_momentum=0.8, warmup_bias_lr=0.1, box=7.5, cls=0.5, dfl=1.5, pose=12.0, kobj=1.0, nbs=64, hsv_h=0.015, hsv_s=0.7, hsv_v=0.4, degrees=0.0, translate=0.1, scale=0.5, shear=0.0, perspective=0.0, flipud=0.0, fliplr=0.5, bgr=0.0, mosaic=1.0, mixup=0.0, copy_paste=0.0, copy_paste_mode=flip, auto_augment=randaugment, erasing=0.4, crop_fraction=1.0, cfg=None, tracker=botsort.yaml, save_dir=runs\\detect\\birds_320_python_run1_noprint10\n",
      "Overriding model.yaml nc=80 with nc=10\n",
      "\n",
      "                   from  n    params  module                                       arguments                     \n",
      "  0                  -1  1       464  ultralytics.nn.modules.conv.Conv             [3, 16, 3, 2]                 \n",
      "  1                  -1  1      4672  ultralytics.nn.modules.conv.Conv             [16, 32, 3, 2]                \n",
      "  2                  -1  1      6640  ultralytics.nn.modules.block.C3k2            [32, 64, 1, False, 0.25]      \n",
      "  3                  -1  1     36992  ultralytics.nn.modules.conv.Conv             [64, 64, 3, 2]                \n",
      "  4                  -1  1     26080  ultralytics.nn.modules.block.C3k2            [64, 128, 1, False, 0.25]     \n",
      "  5                  -1  1    147712  ultralytics.nn.modules.conv.Conv             [128, 128, 3, 2]              \n",
      "  6                  -1  1     87040  ultralytics.nn.modules.block.C3k2            [128, 128, 1, True]           \n",
      "  7                  -1  1    295424  ultralytics.nn.modules.conv.Conv             [128, 256, 3, 2]              \n",
      "  8                  -1  1    346112  ultralytics.nn.modules.block.C3k2            [256, 256, 1, True]           \n",
      "  9                  -1  1    164608  ultralytics.nn.modules.block.SPPF            [256, 256, 5]                 \n",
      " 10                  -1  1    249728  ultralytics.nn.modules.block.C2PSA           [256, 256, 1]                 \n",
      " 11                  -1  1         0  torch.nn.modules.upsampling.Upsample         [None, 2, 'nearest']          \n",
      " 12             [-1, 6]  1         0  ultralytics.nn.modules.conv.Concat           [1]                           \n",
      " 13                  -1  1    111296  ultralytics.nn.modules.block.C3k2            [384, 128, 1, False]          \n",
      " 14                  -1  1         0  torch.nn.modules.upsampling.Upsample         [None, 2, 'nearest']          \n",
      " 15             [-1, 4]  1         0  ultralytics.nn.modules.conv.Concat           [1]                           \n",
      " 16                  -1  1     32096  ultralytics.nn.modules.block.C3k2            [256, 64, 1, False]           \n",
      " 17                  -1  1     36992  ultralytics.nn.modules.conv.Conv             [64, 64, 3, 2]                \n",
      " 18            [-1, 13]  1         0  ultralytics.nn.modules.conv.Concat           [1]                           \n",
      " 19                  -1  1     86720  ultralytics.nn.modules.block.C3k2            [192, 128, 1, False]          \n",
      " 20                  -1  1    147712  ultralytics.nn.modules.conv.Conv             [128, 128, 3, 2]              \n",
      " 21            [-1, 10]  1         0  ultralytics.nn.modules.conv.Concat           [1]                           \n",
      " 22                  -1  1    378880  ultralytics.nn.modules.block.C3k2            [384, 256, 1, True]           \n",
      " 23        [16, 19, 22]  1    432622  ultralytics.nn.modules.head.Detect           [10, [64, 128, 256]]          \n",
      "YOLO11n summary: 181 layers, 2,591,790 parameters, 2,591,774 gradients, 6.5 GFLOPs\n",
      "\n",
      "Transferred 448/499 items from pretrained weights\n",
      "Freezing layer 'model.23.dfl.conv.weight'\n",
      "\u001b[34m\u001b[1mAMP: \u001b[0mrunning Automatic Mixed Precision (AMP) checks...\n",
      "\u001b[34m\u001b[1mAMP: \u001b[0mchecks passed \n"
     ]
    },
    {
     "name": "stderr",
     "output_type": "stream",
     "text": [
      "\u001b[34m\u001b[1mtrain: \u001b[0mScanning C:\\Users\\Admin\\Documents\\FIT5120_MAI_Assignment\\datasets\\bird_dataset_yolo\\labels\\train... 937 images, 480 backgrounds, 0 corrupt: 100%|██████████| 1417/1417 [00:01<00:00, 822.62it/s]\n"
     ]
    },
    {
     "name": "stdout",
     "output_type": "stream",
     "text": [
      "\u001b[34m\u001b[1mtrain: \u001b[0mNew cache created: C:\\Users\\Admin\\Documents\\FIT5120_MAI_Assignment\\datasets\\bird_dataset_yolo\\labels\\train.cache\n"
     ]
    },
    {
     "name": "stderr",
     "output_type": "stream",
     "text": [
      "\u001b[34m\u001b[1mval: \u001b[0mScanning C:\\Users\\Admin\\Documents\\FIT5120_MAI_Assignment\\datasets\\bird_dataset_yolo\\labels\\val... 239 images, 120 backgrounds, 0 corrupt: 100%|██████████| 359/359 [00:00<00:00, 460.39it/s]"
     ]
    },
    {
     "name": "stdout",
     "output_type": "stream",
     "text": [
      "\u001b[34m\u001b[1mval: \u001b[0mNew cache created: C:\\Users\\Admin\\Documents\\FIT5120_MAI_Assignment\\datasets\\bird_dataset_yolo\\labels\\val.cache\n"
     ]
    },
    {
     "name": "stderr",
     "output_type": "stream",
     "text": [
      "\n"
     ]
    },
    {
     "name": "stdout",
     "output_type": "stream",
     "text": [
      "Plotting labels to runs\\detect\\birds_320_python_run1_noprint10\\labels.jpg... \n",
      "\u001b[34m\u001b[1moptimizer:\u001b[0m 'optimizer=auto' found, ignoring 'lr0=0.01' and 'momentum=0.937' and determining best 'optimizer', 'lr0' and 'momentum' automatically... \n",
      "\u001b[34m\u001b[1moptimizer:\u001b[0m AdamW(lr=0.000714, momentum=0.9) with parameter groups 81 weight(decay=0.0), 88 weight(decay=0.0005), 87 bias(decay=0.0)\n",
      "Image sizes 320 train, 320 val\n",
      "Using 8 dataloader workers\n",
      "Logging results to \u001b[1mruns\\detect\\birds_320_python_run1_noprint10\u001b[0m\n",
      "Starting training for 100 epochs...\n",
      "\n",
      "      Epoch    GPU_mem   box_loss   cls_loss   dfl_loss  Instances       Size\n"
     ]
    },
    {
     "name": "stderr",
     "output_type": "stream",
     "text": [
      "      1/100      1.28G     0.4217      3.326      1.077         16        320: 100%|██████████| 45/45 [00:08<00:00,  5.44it/s]\n",
      "                 Class     Images  Instances      Box(P          R      mAP50  mAP50-95): 100%|██████████| 6/6 [00:01<00:00,  4.14it/s]\n"
     ]
    },
    {
     "name": "stdout",
     "output_type": "stream",
     "text": [
      "                   all        359        239    0.00264          1      0.153      0.139\n",
      "\n",
      "      Epoch    GPU_mem   box_loss   cls_loss   dfl_loss  Instances       Size\n"
     ]
    },
    {
     "name": "stderr",
     "output_type": "stream",
     "text": [
      "      2/100      1.62G     0.2108       2.52     0.9383         16        320: 100%|██████████| 45/45 [00:06<00:00,  6.71it/s]\n",
      "                 Class     Images  Instances      Box(P          R      mAP50  mAP50-95): 100%|██████████| 6/6 [00:01<00:00,  4.01it/s]"
     ]
    },
    {
     "name": "stdout",
     "output_type": "stream",
     "text": [
      "                   all        359        239      0.596      0.187      0.288      0.286\n"
     ]
    },
    {
     "name": "stderr",
     "output_type": "stream",
     "text": [
      "\n"
     ]
    },
    {
     "name": "stdout",
     "output_type": "stream",
     "text": [
      "\n",
      "      Epoch    GPU_mem   box_loss   cls_loss   dfl_loss  Instances       Size\n"
     ]
    },
    {
     "name": "stderr",
     "output_type": "stream",
     "text": [
      "      3/100      1.63G     0.2329      1.926      0.948         20        320: 100%|██████████| 45/45 [00:06<00:00,  6.61it/s]\n",
      "                 Class     Images  Instances      Box(P          R      mAP50  mAP50-95): 100%|██████████| 6/6 [00:01<00:00,  4.24it/s]"
     ]
    },
    {
     "name": "stdout",
     "output_type": "stream",
     "text": [
      "                   all        359        239      0.292      0.204      0.188      0.168\n"
     ]
    },
    {
     "name": "stderr",
     "output_type": "stream",
     "text": [
      "\n"
     ]
    },
    {
     "name": "stdout",
     "output_type": "stream",
     "text": [
      "\n",
      "      Epoch    GPU_mem   box_loss   cls_loss   dfl_loss  Instances       Size\n"
     ]
    },
    {
     "name": "stderr",
     "output_type": "stream",
     "text": [
      "      4/100      1.65G      0.219      1.573     0.9282         17        320: 100%|██████████| 45/45 [00:06<00:00,  7.15it/s]\n",
      "                 Class     Images  Instances      Box(P          R      mAP50  mAP50-95): 100%|██████████| 6/6 [00:01<00:00,  4.76it/s]"
     ]
    },
    {
     "name": "stdout",
     "output_type": "stream",
     "text": [
      "                   all        359        239      0.722      0.171      0.241      0.232\n"
     ]
    },
    {
     "name": "stderr",
     "output_type": "stream",
     "text": [
      "\n"
     ]
    },
    {
     "name": "stdout",
     "output_type": "stream",
     "text": [
      "\n",
      "      Epoch    GPU_mem   box_loss   cls_loss   dfl_loss  Instances       Size\n"
     ]
    },
    {
     "name": "stderr",
     "output_type": "stream",
     "text": [
      "      5/100      1.66G     0.2022      1.422       0.92         15        320: 100%|██████████| 45/45 [00:05<00:00,  7.52it/s]\n",
      "                 Class     Images  Instances      Box(P          R      mAP50  mAP50-95): 100%|██████████| 6/6 [00:01<00:00,  4.39it/s]"
     ]
    },
    {
     "name": "stdout",
     "output_type": "stream",
     "text": [
      "                   all        359        239      0.529      0.497      0.468      0.462\n"
     ]
    },
    {
     "name": "stderr",
     "output_type": "stream",
     "text": [
      "\n"
     ]
    },
    {
     "name": "stdout",
     "output_type": "stream",
     "text": [
      "\n",
      "      Epoch    GPU_mem   box_loss   cls_loss   dfl_loss  Instances       Size\n"
     ]
    },
    {
     "name": "stderr",
     "output_type": "stream",
     "text": [
      "      6/100      1.68G     0.1855      1.304     0.9192         19        320: 100%|██████████| 45/45 [00:06<00:00,  6.59it/s]\n",
      "                 Class     Images  Instances      Box(P          R      mAP50  mAP50-95): 100%|██████████| 6/6 [00:01<00:00,  4.17it/s]"
     ]
    },
    {
     "name": "stdout",
     "output_type": "stream",
     "text": [
      "                   all        359        239      0.336      0.547      0.523      0.511\n"
     ]
    },
    {
     "name": "stderr",
     "output_type": "stream",
     "text": [
      "\n"
     ]
    },
    {
     "name": "stdout",
     "output_type": "stream",
     "text": [
      "\n",
      "      Epoch    GPU_mem   box_loss   cls_loss   dfl_loss  Instances       Size\n"
     ]
    },
    {
     "name": "stderr",
     "output_type": "stream",
     "text": [
      "      7/100      1.69G     0.1728      1.206     0.9137         22        320: 100%|██████████| 45/45 [00:06<00:00,  6.95it/s]\n",
      "                 Class     Images  Instances      Box(P          R      mAP50  mAP50-95): 100%|██████████| 6/6 [00:01<00:00,  4.14it/s]"
     ]
    },
    {
     "name": "stdout",
     "output_type": "stream",
     "text": [
      "                   all        359        239      0.558      0.597      0.584      0.564\n"
     ]
    },
    {
     "name": "stderr",
     "output_type": "stream",
     "text": [
      "\n"
     ]
    },
    {
     "name": "stdout",
     "output_type": "stream",
     "text": [
      "\n",
      "      Epoch    GPU_mem   box_loss   cls_loss   dfl_loss  Instances       Size\n"
     ]
    },
    {
     "name": "stderr",
     "output_type": "stream",
     "text": [
      "      8/100      1.71G     0.1738      1.126     0.9129         15        320: 100%|██████████| 45/45 [00:06<00:00,  7.00it/s]\n",
      "                 Class     Images  Instances      Box(P          R      mAP50  mAP50-95): 100%|██████████| 6/6 [00:01<00:00,  4.57it/s]"
     ]
    },
    {
     "name": "stdout",
     "output_type": "stream",
     "text": [
      "                   all        359        239      0.732      0.568       0.65      0.635\n"
     ]
    },
    {
     "name": "stderr",
     "output_type": "stream",
     "text": [
      "\n"
     ]
    },
    {
     "name": "stdout",
     "output_type": "stream",
     "text": [
      "\n",
      "      Epoch    GPU_mem   box_loss   cls_loss   dfl_loss  Instances       Size\n"
     ]
    },
    {
     "name": "stderr",
     "output_type": "stream",
     "text": [
      "      9/100      1.71G     0.1608      1.105     0.9095         21        320: 100%|██████████| 45/45 [00:06<00:00,  7.05it/s]\n",
      "                 Class     Images  Instances      Box(P          R      mAP50  mAP50-95): 100%|██████████| 6/6 [00:01<00:00,  3.99it/s]"
     ]
    },
    {
     "name": "stdout",
     "output_type": "stream",
     "text": [
      "                   all        359        239      0.634      0.597      0.654      0.648\n"
     ]
    },
    {
     "name": "stderr",
     "output_type": "stream",
     "text": [
      "\n"
     ]
    },
    {
     "name": "stdout",
     "output_type": "stream",
     "text": [
      "\n",
      "      Epoch    GPU_mem   box_loss   cls_loss   dfl_loss  Instances       Size\n"
     ]
    },
    {
     "name": "stderr",
     "output_type": "stream",
     "text": [
      "     10/100      1.74G     0.1633      1.069     0.9042         20        320: 100%|██████████| 45/45 [00:06<00:00,  7.18it/s]\n",
      "                 Class     Images  Instances      Box(P          R      mAP50  mAP50-95): 100%|██████████| 6/6 [00:01<00:00,  4.34it/s]"
     ]
    },
    {
     "name": "stdout",
     "output_type": "stream",
     "text": [
      "                   all        359        239      0.689       0.57      0.636      0.624\n"
     ]
    },
    {
     "name": "stderr",
     "output_type": "stream",
     "text": [
      "\n"
     ]
    },
    {
     "name": "stdout",
     "output_type": "stream",
     "text": [
      "\n",
      "      Epoch    GPU_mem   box_loss   cls_loss   dfl_loss  Instances       Size\n"
     ]
    },
    {
     "name": "stderr",
     "output_type": "stream",
     "text": [
      "     11/100      1.75G      0.153      1.017     0.9101         17        320: 100%|██████████| 45/45 [00:06<00:00,  7.39it/s]\n",
      "                 Class     Images  Instances      Box(P          R      mAP50  mAP50-95): 100%|██████████| 6/6 [00:01<00:00,  4.58it/s]"
     ]
    },
    {
     "name": "stdout",
     "output_type": "stream",
     "text": [
      "                   all        359        239      0.757      0.637      0.699      0.697\n"
     ]
    },
    {
     "name": "stderr",
     "output_type": "stream",
     "text": [
      "\n"
     ]
    },
    {
     "name": "stdout",
     "output_type": "stream",
     "text": [
      "\n",
      "      Epoch    GPU_mem   box_loss   cls_loss   dfl_loss  Instances       Size\n"
     ]
    },
    {
     "name": "stderr",
     "output_type": "stream",
     "text": [
      "     12/100      1.77G      0.145     0.9736     0.9025         16        320: 100%|██████████| 45/45 [00:06<00:00,  7.43it/s]\n",
      "                 Class     Images  Instances      Box(P          R      mAP50  mAP50-95): 100%|██████████| 6/6 [00:01<00:00,  4.65it/s]"
     ]
    },
    {
     "name": "stdout",
     "output_type": "stream",
     "text": [
      "                   all        359        239      0.533      0.577      0.488      0.468\n"
     ]
    },
    {
     "name": "stderr",
     "output_type": "stream",
     "text": [
      "\n"
     ]
    },
    {
     "name": "stdout",
     "output_type": "stream",
     "text": [
      "\n",
      "      Epoch    GPU_mem   box_loss   cls_loss   dfl_loss  Instances       Size\n"
     ]
    },
    {
     "name": "stderr",
     "output_type": "stream",
     "text": [
      "     13/100      1.78G     0.1534       1.01     0.9049         16        320: 100%|██████████| 45/45 [00:06<00:00,  7.03it/s]\n",
      "                 Class     Images  Instances      Box(P          R      mAP50  mAP50-95): 100%|██████████| 6/6 [00:01<00:00,  4.75it/s]"
     ]
    },
    {
     "name": "stdout",
     "output_type": "stream",
     "text": [
      "                   all        359        239      0.541      0.624      0.654      0.653\n"
     ]
    },
    {
     "name": "stderr",
     "output_type": "stream",
     "text": [
      "\n"
     ]
    },
    {
     "name": "stdout",
     "output_type": "stream",
     "text": [
      "\n",
      "      Epoch    GPU_mem   box_loss   cls_loss   dfl_loss  Instances       Size\n"
     ]
    },
    {
     "name": "stderr",
     "output_type": "stream",
     "text": [
      "     14/100       1.8G     0.1545     0.9416     0.9096         18        320: 100%|██████████| 45/45 [00:06<00:00,  7.09it/s]\n",
      "                 Class     Images  Instances      Box(P          R      mAP50  mAP50-95): 100%|██████████| 6/6 [00:01<00:00,  4.79it/s]"
     ]
    },
    {
     "name": "stdout",
     "output_type": "stream",
     "text": [
      "                   all        359        239       0.76       0.64      0.725      0.719\n"
     ]
    },
    {
     "name": "stderr",
     "output_type": "stream",
     "text": [
      "\n"
     ]
    },
    {
     "name": "stdout",
     "output_type": "stream",
     "text": [
      "\n",
      "      Epoch    GPU_mem   box_loss   cls_loss   dfl_loss  Instances       Size\n"
     ]
    },
    {
     "name": "stderr",
     "output_type": "stream",
     "text": [
      "     15/100       1.8G     0.1436     0.9482     0.9093         18        320: 100%|██████████| 45/45 [00:06<00:00,  6.80it/s]\n",
      "                 Class     Images  Instances      Box(P          R      mAP50  mAP50-95): 100%|██████████| 6/6 [00:01<00:00,  4.42it/s]"
     ]
    },
    {
     "name": "stdout",
     "output_type": "stream",
     "text": [
      "                   all        359        239      0.847      0.724      0.817      0.815\n"
     ]
    },
    {
     "name": "stderr",
     "output_type": "stream",
     "text": [
      "\n"
     ]
    },
    {
     "name": "stdout",
     "output_type": "stream",
     "text": [
      "\n",
      "      Epoch    GPU_mem   box_loss   cls_loss   dfl_loss  Instances       Size\n"
     ]
    },
    {
     "name": "stderr",
     "output_type": "stream",
     "text": [
      "     16/100      1.83G     0.1409     0.8866      0.908         20        320: 100%|██████████| 45/45 [00:06<00:00,  7.07it/s]\n",
      "                 Class     Images  Instances      Box(P          R      mAP50  mAP50-95): 100%|██████████| 6/6 [00:01<00:00,  4.16it/s]"
     ]
    },
    {
     "name": "stdout",
     "output_type": "stream",
     "text": [
      "                   all        359        239      0.806      0.568      0.734      0.733\n"
     ]
    },
    {
     "name": "stderr",
     "output_type": "stream",
     "text": [
      "\n"
     ]
    },
    {
     "name": "stdout",
     "output_type": "stream",
     "text": [
      "\n",
      "      Epoch    GPU_mem   box_loss   cls_loss   dfl_loss  Instances       Size\n"
     ]
    },
    {
     "name": "stderr",
     "output_type": "stream",
     "text": [
      "     17/100      1.83G     0.1389     0.8912     0.9009         18        320: 100%|██████████| 45/45 [00:06<00:00,  7.03it/s]\n",
      "                 Class     Images  Instances      Box(P          R      mAP50  mAP50-95): 100%|██████████| 6/6 [00:01<00:00,  4.12it/s]"
     ]
    },
    {
     "name": "stdout",
     "output_type": "stream",
     "text": [
      "                   all        359        239      0.877      0.663      0.808        0.8\n"
     ]
    },
    {
     "name": "stderr",
     "output_type": "stream",
     "text": [
      "\n"
     ]
    },
    {
     "name": "stdout",
     "output_type": "stream",
     "text": [
      "\n",
      "      Epoch    GPU_mem   box_loss   cls_loss   dfl_loss  Instances       Size\n"
     ]
    },
    {
     "name": "stderr",
     "output_type": "stream",
     "text": [
      "     18/100      1.86G     0.1326     0.8769     0.9037         17        320: 100%|██████████| 45/45 [00:06<00:00,  7.29it/s]\n",
      "                 Class     Images  Instances      Box(P          R      mAP50  mAP50-95): 100%|██████████| 6/6 [00:01<00:00,  4.57it/s]"
     ]
    },
    {
     "name": "stdout",
     "output_type": "stream",
     "text": [
      "                   all        359        239       0.79      0.724      0.799      0.792\n"
     ]
    },
    {
     "name": "stderr",
     "output_type": "stream",
     "text": [
      "\n"
     ]
    },
    {
     "name": "stdout",
     "output_type": "stream",
     "text": [
      "\n",
      "      Epoch    GPU_mem   box_loss   cls_loss   dfl_loss  Instances       Size\n"
     ]
    },
    {
     "name": "stderr",
     "output_type": "stream",
     "text": [
      "     19/100      1.87G     0.1264     0.8547     0.8946         21        320: 100%|██████████| 45/45 [00:06<00:00,  7.19it/s]\n",
      "                 Class     Images  Instances      Box(P          R      mAP50  mAP50-95): 100%|██████████| 6/6 [00:01<00:00,  4.22it/s]"
     ]
    },
    {
     "name": "stdout",
     "output_type": "stream",
     "text": [
      "                   all        359        239      0.834      0.745      0.827      0.812\n"
     ]
    },
    {
     "name": "stderr",
     "output_type": "stream",
     "text": [
      "\n"
     ]
    },
    {
     "name": "stdout",
     "output_type": "stream",
     "text": [
      "\n",
      "      Epoch    GPU_mem   box_loss   cls_loss   dfl_loss  Instances       Size\n"
     ]
    },
    {
     "name": "stderr",
     "output_type": "stream",
     "text": [
      "     20/100      1.89G     0.1285      0.847     0.8926         13        320: 100%|██████████| 45/45 [00:06<00:00,  6.83it/s]\n",
      "                 Class     Images  Instances      Box(P          R      mAP50  mAP50-95): 100%|██████████| 6/6 [00:01<00:00,  4.13it/s]"
     ]
    },
    {
     "name": "stdout",
     "output_type": "stream",
     "text": [
      "                   all        359        239      0.731      0.837      0.836       0.83\n"
     ]
    },
    {
     "name": "stderr",
     "output_type": "stream",
     "text": [
      "\n"
     ]
    },
    {
     "name": "stdout",
     "output_type": "stream",
     "text": [
      "\n",
      "      Epoch    GPU_mem   box_loss   cls_loss   dfl_loss  Instances       Size\n"
     ]
    },
    {
     "name": "stderr",
     "output_type": "stream",
     "text": [
      "     21/100      1.89G     0.1357     0.8259     0.9016         15        320: 100%|██████████| 45/45 [00:06<00:00,  7.19it/s]\n",
      "                 Class     Images  Instances      Box(P          R      mAP50  mAP50-95): 100%|██████████| 6/6 [00:01<00:00,  4.45it/s]"
     ]
    },
    {
     "name": "stdout",
     "output_type": "stream",
     "text": [
      "                   all        359        239      0.837      0.729      0.866      0.865\n"
     ]
    },
    {
     "name": "stderr",
     "output_type": "stream",
     "text": [
      "\n"
     ]
    },
    {
     "name": "stdout",
     "output_type": "stream",
     "text": [
      "\n",
      "      Epoch    GPU_mem   box_loss   cls_loss   dfl_loss  Instances       Size\n"
     ]
    },
    {
     "name": "stderr",
     "output_type": "stream",
     "text": [
      "     22/100      1.92G     0.1293      0.803      0.895         17        320: 100%|██████████| 45/45 [00:06<00:00,  7.28it/s]\n",
      "                 Class     Images  Instances      Box(P          R      mAP50  mAP50-95): 100%|██████████| 6/6 [00:01<00:00,  4.74it/s]"
     ]
    },
    {
     "name": "stdout",
     "output_type": "stream",
     "text": [
      "                   all        359        239      0.782       0.77       0.84      0.828\n"
     ]
    },
    {
     "name": "stderr",
     "output_type": "stream",
     "text": [
      "\n"
     ]
    },
    {
     "name": "stdout",
     "output_type": "stream",
     "text": [
      "\n",
      "      Epoch    GPU_mem   box_loss   cls_loss   dfl_loss  Instances       Size\n"
     ]
    },
    {
     "name": "stderr",
     "output_type": "stream",
     "text": [
      "     23/100      1.92G     0.1279     0.7612        0.9         18        320: 100%|██████████| 45/45 [00:06<00:00,  7.24it/s]\n",
      "                 Class     Images  Instances      Box(P          R      mAP50  mAP50-95): 100%|██████████| 6/6 [00:01<00:00,  4.50it/s]"
     ]
    },
    {
     "name": "stdout",
     "output_type": "stream",
     "text": [
      "                   all        359        239      0.872      0.671      0.799      0.796\n"
     ]
    },
    {
     "name": "stderr",
     "output_type": "stream",
     "text": [
      "\n"
     ]
    },
    {
     "name": "stdout",
     "output_type": "stream",
     "text": [
      "\n",
      "      Epoch    GPU_mem   box_loss   cls_loss   dfl_loss  Instances       Size\n"
     ]
    },
    {
     "name": "stderr",
     "output_type": "stream",
     "text": [
      "     24/100      1.95G     0.1208     0.7782     0.9011         17        320: 100%|██████████| 45/45 [00:06<00:00,  7.17it/s]\n",
      "                 Class     Images  Instances      Box(P          R      mAP50  mAP50-95): 100%|██████████| 6/6 [00:01<00:00,  4.55it/s]"
     ]
    },
    {
     "name": "stdout",
     "output_type": "stream",
     "text": [
      "                   all        359        239      0.827      0.805      0.898      0.897\n"
     ]
    },
    {
     "name": "stderr",
     "output_type": "stream",
     "text": [
      "\n"
     ]
    },
    {
     "name": "stdout",
     "output_type": "stream",
     "text": [
      "\n",
      "      Epoch    GPU_mem   box_loss   cls_loss   dfl_loss  Instances       Size\n"
     ]
    },
    {
     "name": "stderr",
     "output_type": "stream",
     "text": [
      "     25/100      1.95G      0.119     0.7555     0.8928         17        320: 100%|██████████| 45/45 [00:06<00:00,  6.65it/s]\n",
      "                 Class     Images  Instances      Box(P          R      mAP50  mAP50-95): 100%|██████████| 6/6 [00:01<00:00,  4.09it/s]"
     ]
    },
    {
     "name": "stdout",
     "output_type": "stream",
     "text": [
      "                   all        359        239      0.729      0.754      0.795      0.793\n"
     ]
    },
    {
     "name": "stderr",
     "output_type": "stream",
     "text": [
      "\n"
     ]
    },
    {
     "name": "stdout",
     "output_type": "stream",
     "text": [
      "\n",
      "      Epoch    GPU_mem   box_loss   cls_loss   dfl_loss  Instances       Size\n"
     ]
    },
    {
     "name": "stderr",
     "output_type": "stream",
     "text": [
      "     26/100      1.98G      0.114     0.7589      0.895         22        320: 100%|██████████| 45/45 [00:06<00:00,  6.72it/s]\n",
      "                 Class     Images  Instances      Box(P          R      mAP50  mAP50-95): 100%|██████████| 6/6 [00:01<00:00,  4.46it/s]"
     ]
    },
    {
     "name": "stdout",
     "output_type": "stream",
     "text": [
      "                   all        359        239      0.855      0.759      0.875      0.871\n"
     ]
    },
    {
     "name": "stderr",
     "output_type": "stream",
     "text": [
      "\n"
     ]
    },
    {
     "name": "stdout",
     "output_type": "stream",
     "text": [
      "\n",
      "      Epoch    GPU_mem   box_loss   cls_loss   dfl_loss  Instances       Size\n"
     ]
    },
    {
     "name": "stderr",
     "output_type": "stream",
     "text": [
      "     27/100      1.98G     0.1203     0.7243     0.9022         13        320: 100%|██████████| 45/45 [00:06<00:00,  6.90it/s]\n",
      "                 Class     Images  Instances      Box(P          R      mAP50  mAP50-95): 100%|██████████| 6/6 [00:01<00:00,  4.18it/s]"
     ]
    },
    {
     "name": "stdout",
     "output_type": "stream",
     "text": [
      "                   all        359        239      0.889      0.855      0.919      0.907\n"
     ]
    },
    {
     "name": "stderr",
     "output_type": "stream",
     "text": [
      "\n"
     ]
    },
    {
     "name": "stdout",
     "output_type": "stream",
     "text": [
      "\n",
      "      Epoch    GPU_mem   box_loss   cls_loss   dfl_loss  Instances       Size\n"
     ]
    },
    {
     "name": "stderr",
     "output_type": "stream",
     "text": [
      "     28/100      2.01G     0.1166     0.7154     0.8971         17        320: 100%|██████████| 45/45 [00:06<00:00,  6.97it/s]\n",
      "                 Class     Images  Instances      Box(P          R      mAP50  mAP50-95): 100%|██████████| 6/6 [00:01<00:00,  4.50it/s]"
     ]
    },
    {
     "name": "stdout",
     "output_type": "stream",
     "text": [
      "                   all        359        239      0.795      0.855      0.893      0.884\n"
     ]
    },
    {
     "name": "stderr",
     "output_type": "stream",
     "text": [
      "\n"
     ]
    },
    {
     "name": "stdout",
     "output_type": "stream",
     "text": [
      "\n",
      "      Epoch    GPU_mem   box_loss   cls_loss   dfl_loss  Instances       Size\n"
     ]
    },
    {
     "name": "stderr",
     "output_type": "stream",
     "text": [
      "     29/100      2.01G     0.1184     0.7239     0.9021         26        320: 100%|██████████| 45/45 [00:06<00:00,  7.26it/s]\n",
      "                 Class     Images  Instances      Box(P          R      mAP50  mAP50-95): 100%|██████████| 6/6 [00:01<00:00,  4.56it/s]"
     ]
    },
    {
     "name": "stdout",
     "output_type": "stream",
     "text": [
      "                   all        359        239      0.774      0.779      0.861      0.853\n"
     ]
    },
    {
     "name": "stderr",
     "output_type": "stream",
     "text": [
      "\n"
     ]
    },
    {
     "name": "stdout",
     "output_type": "stream",
     "text": [
      "\n",
      "      Epoch    GPU_mem   box_loss   cls_loss   dfl_loss  Instances       Size\n"
     ]
    },
    {
     "name": "stderr",
     "output_type": "stream",
     "text": [
      "     30/100      2.04G     0.1202      0.707      0.905         19        320: 100%|██████████| 45/45 [00:06<00:00,  6.89it/s]\n",
      "                 Class     Images  Instances      Box(P          R      mAP50  mAP50-95): 100%|██████████| 6/6 [00:01<00:00,  4.40it/s]"
     ]
    },
    {
     "name": "stdout",
     "output_type": "stream",
     "text": [
      "                   all        359        239      0.777      0.807      0.836      0.816\n"
     ]
    },
    {
     "name": "stderr",
     "output_type": "stream",
     "text": [
      "\n"
     ]
    },
    {
     "name": "stdout",
     "output_type": "stream",
     "text": [
      "\n",
      "      Epoch    GPU_mem   box_loss   cls_loss   dfl_loss  Instances       Size\n"
     ]
    },
    {
     "name": "stderr",
     "output_type": "stream",
     "text": [
      "     31/100      2.04G     0.1117     0.7164      0.897         20        320: 100%|██████████| 45/45 [00:06<00:00,  7.07it/s]\n",
      "                 Class     Images  Instances      Box(P          R      mAP50  mAP50-95): 100%|██████████| 6/6 [00:01<00:00,  4.52it/s]"
     ]
    },
    {
     "name": "stdout",
     "output_type": "stream",
     "text": [
      "                   all        359        239      0.907      0.753      0.887      0.878\n"
     ]
    },
    {
     "name": "stderr",
     "output_type": "stream",
     "text": [
      "\n"
     ]
    },
    {
     "name": "stdout",
     "output_type": "stream",
     "text": [
      "\n",
      "      Epoch    GPU_mem   box_loss   cls_loss   dfl_loss  Instances       Size\n"
     ]
    },
    {
     "name": "stderr",
     "output_type": "stream",
     "text": [
      "     32/100      2.06G     0.1099     0.6927     0.8955         16        320: 100%|██████████| 45/45 [00:06<00:00,  7.34it/s]\n",
      "                 Class     Images  Instances      Box(P          R      mAP50  mAP50-95): 100%|██████████| 6/6 [00:01<00:00,  4.69it/s]"
     ]
    },
    {
     "name": "stdout",
     "output_type": "stream",
     "text": [
      "                   all        359        239      0.953      0.784      0.896      0.895\n"
     ]
    },
    {
     "name": "stderr",
     "output_type": "stream",
     "text": [
      "\n"
     ]
    },
    {
     "name": "stdout",
     "output_type": "stream",
     "text": [
      "\n",
      "      Epoch    GPU_mem   box_loss   cls_loss   dfl_loss  Instances       Size\n"
     ]
    },
    {
     "name": "stderr",
     "output_type": "stream",
     "text": [
      "     33/100      2.07G     0.1134     0.6895     0.8984         12        320: 100%|██████████| 45/45 [00:06<00:00,  7.09it/s]\n",
      "                 Class     Images  Instances      Box(P          R      mAP50  mAP50-95): 100%|██████████| 6/6 [00:01<00:00,  4.45it/s]"
     ]
    },
    {
     "name": "stdout",
     "output_type": "stream",
     "text": [
      "                   all        359        239      0.737      0.789      0.828      0.825\n"
     ]
    },
    {
     "name": "stderr",
     "output_type": "stream",
     "text": [
      "\n"
     ]
    },
    {
     "name": "stdout",
     "output_type": "stream",
     "text": [
      "\n",
      "      Epoch    GPU_mem   box_loss   cls_loss   dfl_loss  Instances       Size\n"
     ]
    },
    {
     "name": "stderr",
     "output_type": "stream",
     "text": [
      "     34/100      2.09G     0.1025     0.6676     0.8895         21        320: 100%|██████████| 45/45 [00:06<00:00,  7.06it/s]\n",
      "                 Class     Images  Instances      Box(P          R      mAP50  mAP50-95): 100%|██████████| 6/6 [00:01<00:00,  4.46it/s]"
     ]
    },
    {
     "name": "stdout",
     "output_type": "stream",
     "text": [
      "                   all        359        239      0.869      0.799      0.881      0.865\n"
     ]
    },
    {
     "name": "stderr",
     "output_type": "stream",
     "text": [
      "\n"
     ]
    },
    {
     "name": "stdout",
     "output_type": "stream",
     "text": [
      "\n",
      "      Epoch    GPU_mem   box_loss   cls_loss   dfl_loss  Instances       Size\n"
     ]
    },
    {
     "name": "stderr",
     "output_type": "stream",
     "text": [
      "     35/100       2.1G     0.1045      0.653     0.8913         23        320: 100%|██████████| 45/45 [00:06<00:00,  6.84it/s]\n",
      "                 Class     Images  Instances      Box(P          R      mAP50  mAP50-95): 100%|██████████| 6/6 [00:01<00:00,  4.74it/s]"
     ]
    },
    {
     "name": "stdout",
     "output_type": "stream",
     "text": [
      "                   all        359        239      0.916      0.791      0.899       0.89\n"
     ]
    },
    {
     "name": "stderr",
     "output_type": "stream",
     "text": [
      "\n"
     ]
    },
    {
     "name": "stdout",
     "output_type": "stream",
     "text": [
      "\n",
      "      Epoch    GPU_mem   box_loss   cls_loss   dfl_loss  Instances       Size\n"
     ]
    },
    {
     "name": "stderr",
     "output_type": "stream",
     "text": [
      "     36/100      2.12G    0.09888     0.6538      0.892         12        320: 100%|██████████| 45/45 [00:06<00:00,  6.83it/s]\n",
      "                 Class     Images  Instances      Box(P          R      mAP50  mAP50-95): 100%|██████████| 6/6 [00:01<00:00,  4.69it/s]"
     ]
    },
    {
     "name": "stdout",
     "output_type": "stream",
     "text": [
      "                   all        359        239      0.838      0.792       0.87      0.869\n"
     ]
    },
    {
     "name": "stderr",
     "output_type": "stream",
     "text": [
      "\n"
     ]
    },
    {
     "name": "stdout",
     "output_type": "stream",
     "text": [
      "\n",
      "      Epoch    GPU_mem   box_loss   cls_loss   dfl_loss  Instances       Size\n"
     ]
    },
    {
     "name": "stderr",
     "output_type": "stream",
     "text": [
      "     37/100      2.13G    0.09941     0.6331     0.8996         23        320: 100%|██████████| 45/45 [00:06<00:00,  7.32it/s]\n",
      "                 Class     Images  Instances      Box(P          R      mAP50  mAP50-95): 100%|██████████| 6/6 [00:01<00:00,  4.80it/s]"
     ]
    },
    {
     "name": "stdout",
     "output_type": "stream",
     "text": [
      "                   all        359        239      0.849      0.818      0.893      0.887\n"
     ]
    },
    {
     "name": "stderr",
     "output_type": "stream",
     "text": [
      "\n"
     ]
    },
    {
     "name": "stdout",
     "output_type": "stream",
     "text": [
      "\n",
      "      Epoch    GPU_mem   box_loss   cls_loss   dfl_loss  Instances       Size\n"
     ]
    },
    {
     "name": "stderr",
     "output_type": "stream",
     "text": [
      "     38/100      2.15G    0.09939     0.6331     0.8979         12        320: 100%|██████████| 45/45 [00:06<00:00,  7.24it/s]\n",
      "                 Class     Images  Instances      Box(P          R      mAP50  mAP50-95): 100%|██████████| 6/6 [00:01<00:00,  4.78it/s]"
     ]
    },
    {
     "name": "stdout",
     "output_type": "stream",
     "text": [
      "                   all        359        239      0.832      0.884      0.881       0.88\n"
     ]
    },
    {
     "name": "stderr",
     "output_type": "stream",
     "text": [
      "\n"
     ]
    },
    {
     "name": "stdout",
     "output_type": "stream",
     "text": [
      "\n",
      "      Epoch    GPU_mem   box_loss   cls_loss   dfl_loss  Instances       Size\n"
     ]
    },
    {
     "name": "stderr",
     "output_type": "stream",
     "text": [
      "     39/100      2.16G    0.09634     0.5999      0.895         14        320: 100%|██████████| 45/45 [00:06<00:00,  7.06it/s]\n",
      "                 Class     Images  Instances      Box(P          R      mAP50  mAP50-95): 100%|██████████| 6/6 [00:01<00:00,  4.28it/s]"
     ]
    },
    {
     "name": "stdout",
     "output_type": "stream",
     "text": [
      "                   all        359        239      0.924      0.904      0.944      0.941\n"
     ]
    },
    {
     "name": "stderr",
     "output_type": "stream",
     "text": [
      "\n"
     ]
    },
    {
     "name": "stdout",
     "output_type": "stream",
     "text": [
      "\n",
      "      Epoch    GPU_mem   box_loss   cls_loss   dfl_loss  Instances       Size\n"
     ]
    },
    {
     "name": "stderr",
     "output_type": "stream",
     "text": [
      "     40/100      2.18G    0.09561     0.6024     0.8902         16        320: 100%|██████████| 45/45 [00:06<00:00,  6.74it/s]\n",
      "                 Class     Images  Instances      Box(P          R      mAP50  mAP50-95): 100%|██████████| 6/6 [00:01<00:00,  4.26it/s]"
     ]
    },
    {
     "name": "stdout",
     "output_type": "stream",
     "text": [
      "                   all        359        239      0.845      0.802      0.872      0.862\n"
     ]
    },
    {
     "name": "stderr",
     "output_type": "stream",
     "text": [
      "\n"
     ]
    },
    {
     "name": "stdout",
     "output_type": "stream",
     "text": [
      "\n",
      "      Epoch    GPU_mem   box_loss   cls_loss   dfl_loss  Instances       Size\n"
     ]
    },
    {
     "name": "stderr",
     "output_type": "stream",
     "text": [
      "     41/100      2.19G    0.09582     0.6232     0.8926         19        320: 100%|██████████| 45/45 [00:06<00:00,  7.20it/s]\n",
      "                 Class     Images  Instances      Box(P          R      mAP50  mAP50-95): 100%|██████████| 6/6 [00:01<00:00,  5.04it/s]"
     ]
    },
    {
     "name": "stdout",
     "output_type": "stream",
     "text": [
      "                   all        359        239       0.85      0.923      0.933      0.918\n"
     ]
    },
    {
     "name": "stderr",
     "output_type": "stream",
     "text": [
      "\n"
     ]
    },
    {
     "name": "stdout",
     "output_type": "stream",
     "text": [
      "\n",
      "      Epoch    GPU_mem   box_loss   cls_loss   dfl_loss  Instances       Size\n"
     ]
    },
    {
     "name": "stderr",
     "output_type": "stream",
     "text": [
      "     42/100      2.21G    0.09752     0.5697     0.8856         19        320: 100%|██████████| 45/45 [00:06<00:00,  7.30it/s]\n",
      "                 Class     Images  Instances      Box(P          R      mAP50  mAP50-95): 100%|██████████| 6/6 [00:01<00:00,  4.05it/s]"
     ]
    },
    {
     "name": "stdout",
     "output_type": "stream",
     "text": [
      "                   all        359        239      0.936      0.862      0.954      0.953\n"
     ]
    },
    {
     "name": "stderr",
     "output_type": "stream",
     "text": [
      "\n"
     ]
    },
    {
     "name": "stdout",
     "output_type": "stream",
     "text": [
      "\n",
      "      Epoch    GPU_mem   box_loss   cls_loss   dfl_loss  Instances       Size\n"
     ]
    },
    {
     "name": "stderr",
     "output_type": "stream",
     "text": [
      "     43/100      2.22G    0.09425     0.5767     0.8924         22        320: 100%|██████████| 45/45 [00:06<00:00,  6.91it/s]\n",
      "                 Class     Images  Instances      Box(P          R      mAP50  mAP50-95): 100%|██████████| 6/6 [00:01<00:00,  4.47it/s]"
     ]
    },
    {
     "name": "stdout",
     "output_type": "stream",
     "text": [
      "                   all        359        239      0.881      0.857       0.91      0.893\n"
     ]
    },
    {
     "name": "stderr",
     "output_type": "stream",
     "text": [
      "\n"
     ]
    },
    {
     "name": "stdout",
     "output_type": "stream",
     "text": [
      "\n",
      "      Epoch    GPU_mem   box_loss   cls_loss   dfl_loss  Instances       Size\n"
     ]
    },
    {
     "name": "stderr",
     "output_type": "stream",
     "text": [
      "     44/100      2.24G    0.09255     0.5911     0.8957         19        320: 100%|██████████| 45/45 [00:06<00:00,  6.79it/s]\n",
      "                 Class     Images  Instances      Box(P          R      mAP50  mAP50-95): 100%|██████████| 6/6 [00:01<00:00,  4.86it/s]"
     ]
    },
    {
     "name": "stdout",
     "output_type": "stream",
     "text": [
      "                   all        359        239      0.827      0.863      0.882      0.879\n"
     ]
    },
    {
     "name": "stderr",
     "output_type": "stream",
     "text": [
      "\n"
     ]
    },
    {
     "name": "stdout",
     "output_type": "stream",
     "text": [
      "\n",
      "      Epoch    GPU_mem   box_loss   cls_loss   dfl_loss  Instances       Size\n"
     ]
    },
    {
     "name": "stderr",
     "output_type": "stream",
     "text": [
      "     45/100      2.25G    0.09526     0.5632     0.9028         18        320: 100%|██████████| 45/45 [00:06<00:00,  6.77it/s]\n",
      "                 Class     Images  Instances      Box(P          R      mAP50  mAP50-95): 100%|██████████| 6/6 [00:01<00:00,  4.46it/s]"
     ]
    },
    {
     "name": "stdout",
     "output_type": "stream",
     "text": [
      "                   all        359        239        0.8      0.753      0.811      0.807\n"
     ]
    },
    {
     "name": "stderr",
     "output_type": "stream",
     "text": [
      "\n"
     ]
    },
    {
     "name": "stdout",
     "output_type": "stream",
     "text": [
      "\n",
      "      Epoch    GPU_mem   box_loss   cls_loss   dfl_loss  Instances       Size\n"
     ]
    },
    {
     "name": "stderr",
     "output_type": "stream",
     "text": [
      "     46/100      2.27G    0.09249      0.571     0.8918         18        320: 100%|██████████| 45/45 [00:06<00:00,  7.10it/s]\n",
      "                 Class     Images  Instances      Box(P          R      mAP50  mAP50-95): 100%|██████████| 6/6 [00:01<00:00,  4.28it/s]"
     ]
    },
    {
     "name": "stdout",
     "output_type": "stream",
     "text": [
      "                   all        359        239      0.889      0.877      0.938      0.929\n"
     ]
    },
    {
     "name": "stderr",
     "output_type": "stream",
     "text": [
      "\n"
     ]
    },
    {
     "name": "stdout",
     "output_type": "stream",
     "text": [
      "\n",
      "      Epoch    GPU_mem   box_loss   cls_loss   dfl_loss  Instances       Size\n"
     ]
    },
    {
     "name": "stderr",
     "output_type": "stream",
     "text": [
      "     47/100      2.28G    0.09434     0.5845     0.8936         22        320: 100%|██████████| 45/45 [00:06<00:00,  7.05it/s]\n",
      "                 Class     Images  Instances      Box(P          R      mAP50  mAP50-95): 100%|██████████| 6/6 [00:01<00:00,  4.68it/s]"
     ]
    },
    {
     "name": "stdout",
     "output_type": "stream",
     "text": [
      "                   all        359        239      0.879      0.913      0.954      0.953\n"
     ]
    },
    {
     "name": "stderr",
     "output_type": "stream",
     "text": [
      "\n"
     ]
    },
    {
     "name": "stdout",
     "output_type": "stream",
     "text": [
      "\n",
      "      Epoch    GPU_mem   box_loss   cls_loss   dfl_loss  Instances       Size\n"
     ]
    },
    {
     "name": "stderr",
     "output_type": "stream",
     "text": [
      "     48/100       2.3G    0.09491     0.5751     0.8875         23        320: 100%|██████████| 45/45 [00:06<00:00,  7.30it/s]\n",
      "                 Class     Images  Instances      Box(P          R      mAP50  mAP50-95): 100%|██████████| 6/6 [00:01<00:00,  4.66it/s]"
     ]
    },
    {
     "name": "stdout",
     "output_type": "stream",
     "text": [
      "                   all        359        239      0.821      0.817       0.83      0.829\n"
     ]
    },
    {
     "name": "stderr",
     "output_type": "stream",
     "text": [
      "\n"
     ]
    },
    {
     "name": "stdout",
     "output_type": "stream",
     "text": [
      "\n",
      "      Epoch    GPU_mem   box_loss   cls_loss   dfl_loss  Instances       Size\n"
     ]
    },
    {
     "name": "stderr",
     "output_type": "stream",
     "text": [
      "     49/100      2.31G    0.08556     0.5335     0.8872         18        320: 100%|██████████| 45/45 [00:06<00:00,  7.49it/s]\n",
      "                 Class     Images  Instances      Box(P          R      mAP50  mAP50-95): 100%|██████████| 6/6 [00:01<00:00,  4.53it/s]"
     ]
    },
    {
     "name": "stdout",
     "output_type": "stream",
     "text": [
      "                   all        359        239      0.885       0.82      0.901        0.9\n"
     ]
    },
    {
     "name": "stderr",
     "output_type": "stream",
     "text": [
      "\n"
     ]
    },
    {
     "name": "stdout",
     "output_type": "stream",
     "text": [
      "\n",
      "      Epoch    GPU_mem   box_loss   cls_loss   dfl_loss  Instances       Size\n"
     ]
    },
    {
     "name": "stderr",
     "output_type": "stream",
     "text": [
      "     50/100      2.33G    0.09131     0.5309     0.8938         20        320: 100%|██████████| 45/45 [00:06<00:00,  6.97it/s]\n",
      "                 Class     Images  Instances      Box(P          R      mAP50  mAP50-95): 100%|██████████| 6/6 [00:01<00:00,  4.71it/s]"
     ]
    },
    {
     "name": "stdout",
     "output_type": "stream",
     "text": [
      "                   all        359        239      0.867      0.809      0.904      0.903\n"
     ]
    },
    {
     "name": "stderr",
     "output_type": "stream",
     "text": [
      "\n"
     ]
    },
    {
     "name": "stdout",
     "output_type": "stream",
     "text": [
      "\n",
      "      Epoch    GPU_mem   box_loss   cls_loss   dfl_loss  Instances       Size\n"
     ]
    },
    {
     "name": "stderr",
     "output_type": "stream",
     "text": [
      "     51/100      2.34G    0.08584     0.5558     0.8893         19        320: 100%|██████████| 45/45 [00:06<00:00,  7.27it/s]\n",
      "                 Class     Images  Instances      Box(P          R      mAP50  mAP50-95): 100%|██████████| 6/6 [00:01<00:00,  4.25it/s]"
     ]
    },
    {
     "name": "stdout",
     "output_type": "stream",
     "text": [
      "                   all        359        239      0.875      0.877       0.91      0.907\n"
     ]
    },
    {
     "name": "stderr",
     "output_type": "stream",
     "text": [
      "\n"
     ]
    },
    {
     "name": "stdout",
     "output_type": "stream",
     "text": [
      "\n",
      "      Epoch    GPU_mem   box_loss   cls_loss   dfl_loss  Instances       Size\n"
     ]
    },
    {
     "name": "stderr",
     "output_type": "stream",
     "text": [
      "     52/100      2.36G    0.08807      0.546     0.8897         12        320: 100%|██████████| 45/45 [00:06<00:00,  7.44it/s]\n",
      "                 Class     Images  Instances      Box(P          R      mAP50  mAP50-95): 100%|██████████| 6/6 [00:01<00:00,  4.68it/s]"
     ]
    },
    {
     "name": "stdout",
     "output_type": "stream",
     "text": [
      "                   all        359        239      0.809      0.906      0.935      0.928\n"
     ]
    },
    {
     "name": "stderr",
     "output_type": "stream",
     "text": [
      "\n"
     ]
    },
    {
     "name": "stdout",
     "output_type": "stream",
     "text": [
      "\n",
      "      Epoch    GPU_mem   box_loss   cls_loss   dfl_loss  Instances       Size\n"
     ]
    },
    {
     "name": "stderr",
     "output_type": "stream",
     "text": [
      "     53/100      2.37G    0.08864     0.5193     0.8934         24        320: 100%|██████████| 45/45 [00:06<00:00,  6.94it/s]\n",
      "                 Class     Images  Instances      Box(P          R      mAP50  mAP50-95): 100%|██████████| 6/6 [00:01<00:00,  4.61it/s]"
     ]
    },
    {
     "name": "stdout",
     "output_type": "stream",
     "text": [
      "                   all        359        239      0.886      0.891      0.953      0.951\n"
     ]
    },
    {
     "name": "stderr",
     "output_type": "stream",
     "text": [
      "\n"
     ]
    },
    {
     "name": "stdout",
     "output_type": "stream",
     "text": [
      "\n",
      "      Epoch    GPU_mem   box_loss   cls_loss   dfl_loss  Instances       Size\n"
     ]
    },
    {
     "name": "stderr",
     "output_type": "stream",
     "text": [
      "     54/100      2.39G    0.08797     0.5262     0.8963         17        320: 100%|██████████| 45/45 [00:06<00:00,  6.85it/s]\n",
      "                 Class     Images  Instances      Box(P          R      mAP50  mAP50-95): 100%|██████████| 6/6 [00:01<00:00,  5.14it/s]"
     ]
    },
    {
     "name": "stdout",
     "output_type": "stream",
     "text": [
      "                   all        359        239      0.877       0.85      0.926      0.922\n"
     ]
    },
    {
     "name": "stderr",
     "output_type": "stream",
     "text": [
      "\n"
     ]
    },
    {
     "name": "stdout",
     "output_type": "stream",
     "text": [
      "\n",
      "      Epoch    GPU_mem   box_loss   cls_loss   dfl_loss  Instances       Size\n"
     ]
    },
    {
     "name": "stderr",
     "output_type": "stream",
     "text": [
      "     55/100      2.39G     0.0869     0.5114     0.8913         20        320: 100%|██████████| 45/45 [00:06<00:00,  6.67it/s]\n",
      "                 Class     Images  Instances      Box(P          R      mAP50  mAP50-95): 100%|██████████| 6/6 [00:01<00:00,  4.51it/s]"
     ]
    },
    {
     "name": "stdout",
     "output_type": "stream",
     "text": [
      "                   all        359        239      0.949      0.926      0.981      0.978\n"
     ]
    },
    {
     "name": "stderr",
     "output_type": "stream",
     "text": [
      "\n"
     ]
    },
    {
     "name": "stdout",
     "output_type": "stream",
     "text": [
      "\n",
      "      Epoch    GPU_mem   box_loss   cls_loss   dfl_loss  Instances       Size\n"
     ]
    },
    {
     "name": "stderr",
     "output_type": "stream",
     "text": [
      "     56/100      2.42G    0.08347     0.4938     0.8888         15        320: 100%|██████████| 45/45 [00:06<00:00,  6.56it/s]\n",
      "                 Class     Images  Instances      Box(P          R      mAP50  mAP50-95): 100%|██████████| 6/6 [00:01<00:00,  4.20it/s]"
     ]
    },
    {
     "name": "stdout",
     "output_type": "stream",
     "text": [
      "                   all        359        239      0.916      0.887      0.947      0.939\n"
     ]
    },
    {
     "name": "stderr",
     "output_type": "stream",
     "text": [
      "\n"
     ]
    },
    {
     "name": "stdout",
     "output_type": "stream",
     "text": [
      "\n",
      "      Epoch    GPU_mem   box_loss   cls_loss   dfl_loss  Instances       Size\n"
     ]
    },
    {
     "name": "stderr",
     "output_type": "stream",
     "text": [
      "     57/100      2.43G    0.08584     0.5139     0.8968         13        320: 100%|██████████| 45/45 [00:06<00:00,  7.08it/s]\n",
      "                 Class     Images  Instances      Box(P          R      mAP50  mAP50-95): 100%|██████████| 6/6 [00:01<00:00,  4.76it/s]"
     ]
    },
    {
     "name": "stdout",
     "output_type": "stream",
     "text": [
      "                   all        359        239      0.866      0.912       0.94      0.938\n"
     ]
    },
    {
     "name": "stderr",
     "output_type": "stream",
     "text": [
      "\n"
     ]
    },
    {
     "name": "stdout",
     "output_type": "stream",
     "text": [
      "\n",
      "      Epoch    GPU_mem   box_loss   cls_loss   dfl_loss  Instances       Size\n"
     ]
    },
    {
     "name": "stderr",
     "output_type": "stream",
     "text": [
      "     58/100      2.45G    0.08253     0.4804     0.8899         13        320: 100%|██████████| 45/45 [00:06<00:00,  7.23it/s]\n",
      "                 Class     Images  Instances      Box(P          R      mAP50  mAP50-95): 100%|██████████| 6/6 [00:01<00:00,  4.64it/s]"
     ]
    },
    {
     "name": "stdout",
     "output_type": "stream",
     "text": [
      "                   all        359        239      0.928      0.877      0.951      0.948\n"
     ]
    },
    {
     "name": "stderr",
     "output_type": "stream",
     "text": [
      "\n"
     ]
    },
    {
     "name": "stdout",
     "output_type": "stream",
     "text": [
      "\n",
      "      Epoch    GPU_mem   box_loss   cls_loss   dfl_loss  Instances       Size\n"
     ]
    },
    {
     "name": "stderr",
     "output_type": "stream",
     "text": [
      "     59/100      2.45G    0.07745     0.4734     0.8866         15        320: 100%|██████████| 45/45 [00:06<00:00,  7.13it/s]\n",
      "                 Class     Images  Instances      Box(P          R      mAP50  mAP50-95): 100%|██████████| 6/6 [00:01<00:00,  3.93it/s]"
     ]
    },
    {
     "name": "stdout",
     "output_type": "stream",
     "text": [
      "                   all        359        239      0.897      0.886      0.949      0.947\n"
     ]
    },
    {
     "name": "stderr",
     "output_type": "stream",
     "text": [
      "\n"
     ]
    },
    {
     "name": "stdout",
     "output_type": "stream",
     "text": [
      "\n",
      "      Epoch    GPU_mem   box_loss   cls_loss   dfl_loss  Instances       Size\n"
     ]
    },
    {
     "name": "stderr",
     "output_type": "stream",
     "text": [
      "     60/100      2.48G    0.07758      0.482     0.8896         22        320: 100%|██████████| 45/45 [00:06<00:00,  6.83it/s]\n",
      "                 Class     Images  Instances      Box(P          R      mAP50  mAP50-95): 100%|██████████| 6/6 [00:01<00:00,  4.48it/s]"
     ]
    },
    {
     "name": "stdout",
     "output_type": "stream",
     "text": [
      "                   all        359        239      0.895      0.899      0.944      0.942\n"
     ]
    },
    {
     "name": "stderr",
     "output_type": "stream",
     "text": [
      "\n"
     ]
    },
    {
     "name": "stdout",
     "output_type": "stream",
     "text": [
      "\n",
      "      Epoch    GPU_mem   box_loss   cls_loss   dfl_loss  Instances       Size\n"
     ]
    },
    {
     "name": "stderr",
     "output_type": "stream",
     "text": [
      "     61/100      2.48G    0.07704      0.487      0.893         16        320: 100%|██████████| 45/45 [00:06<00:00,  7.20it/s]\n",
      "                 Class     Images  Instances      Box(P          R      mAP50  mAP50-95): 100%|██████████| 6/6 [00:01<00:00,  5.00it/s]"
     ]
    },
    {
     "name": "stdout",
     "output_type": "stream",
     "text": [
      "                   all        359        239        0.9      0.886      0.938      0.933\n"
     ]
    },
    {
     "name": "stderr",
     "output_type": "stream",
     "text": [
      "\n"
     ]
    },
    {
     "name": "stdout",
     "output_type": "stream",
     "text": [
      "\n",
      "      Epoch    GPU_mem   box_loss   cls_loss   dfl_loss  Instances       Size\n"
     ]
    },
    {
     "name": "stderr",
     "output_type": "stream",
     "text": [
      "     62/100      2.51G    0.07643     0.4818     0.8931         24        320: 100%|██████████| 45/45 [00:06<00:00,  7.35it/s]\n",
      "                 Class     Images  Instances      Box(P          R      mAP50  mAP50-95): 100%|██████████| 6/6 [00:01<00:00,  4.64it/s]"
     ]
    },
    {
     "name": "stdout",
     "output_type": "stream",
     "text": [
      "                   all        359        239      0.893       0.84      0.888      0.887\n"
     ]
    },
    {
     "name": "stderr",
     "output_type": "stream",
     "text": [
      "\n"
     ]
    },
    {
     "name": "stdout",
     "output_type": "stream",
     "text": [
      "\n",
      "      Epoch    GPU_mem   box_loss   cls_loss   dfl_loss  Instances       Size\n"
     ]
    },
    {
     "name": "stderr",
     "output_type": "stream",
     "text": [
      "     63/100      2.51G     0.0791     0.4741     0.8956         19        320: 100%|██████████| 45/45 [00:06<00:00,  6.96it/s]\n",
      "                 Class     Images  Instances      Box(P          R      mAP50  mAP50-95): 100%|██████████| 6/6 [00:01<00:00,  4.22it/s]"
     ]
    },
    {
     "name": "stdout",
     "output_type": "stream",
     "text": [
      "                   all        359        239      0.882      0.933      0.964      0.963\n"
     ]
    },
    {
     "name": "stderr",
     "output_type": "stream",
     "text": [
      "\n"
     ]
    },
    {
     "name": "stdout",
     "output_type": "stream",
     "text": [
      "\n",
      "      Epoch    GPU_mem   box_loss   cls_loss   dfl_loss  Instances       Size\n"
     ]
    },
    {
     "name": "stderr",
     "output_type": "stream",
     "text": [
      "     64/100      2.54G    0.07808     0.4734     0.8947         20        320: 100%|██████████| 45/45 [00:06<00:00,  7.00it/s]\n",
      "                 Class     Images  Instances      Box(P          R      mAP50  mAP50-95): 100%|██████████| 6/6 [00:01<00:00,  4.74it/s]"
     ]
    },
    {
     "name": "stdout",
     "output_type": "stream",
     "text": [
      "                   all        359        239      0.903       0.87      0.924      0.917\n"
     ]
    },
    {
     "name": "stderr",
     "output_type": "stream",
     "text": [
      "\n"
     ]
    },
    {
     "name": "stdout",
     "output_type": "stream",
     "text": [
      "\n",
      "      Epoch    GPU_mem   box_loss   cls_loss   dfl_loss  Instances       Size\n"
     ]
    },
    {
     "name": "stderr",
     "output_type": "stream",
     "text": [
      "     65/100      2.54G     0.0741     0.4721     0.8886         15        320: 100%|██████████| 45/45 [00:06<00:00,  7.39it/s]\n",
      "                 Class     Images  Instances      Box(P          R      mAP50  mAP50-95): 100%|██████████| 6/6 [00:01<00:00,  4.80it/s]"
     ]
    },
    {
     "name": "stdout",
     "output_type": "stream",
     "text": [
      "                   all        359        239      0.919      0.864      0.937      0.936\n"
     ]
    },
    {
     "name": "stderr",
     "output_type": "stream",
     "text": [
      "\n"
     ]
    },
    {
     "name": "stdout",
     "output_type": "stream",
     "text": [
      "\n",
      "      Epoch    GPU_mem   box_loss   cls_loss   dfl_loss  Instances       Size\n"
     ]
    },
    {
     "name": "stderr",
     "output_type": "stream",
     "text": [
      "     66/100      2.57G    0.07442     0.4618     0.8935         21        320: 100%|██████████| 45/45 [00:06<00:00,  7.12it/s]\n",
      "                 Class     Images  Instances      Box(P          R      mAP50  mAP50-95): 100%|██████████| 6/6 [00:01<00:00,  4.74it/s]"
     ]
    },
    {
     "name": "stdout",
     "output_type": "stream",
     "text": [
      "                   all        359        239      0.924      0.844       0.95      0.938\n"
     ]
    },
    {
     "name": "stderr",
     "output_type": "stream",
     "text": [
      "\n"
     ]
    },
    {
     "name": "stdout",
     "output_type": "stream",
     "text": [
      "\n",
      "      Epoch    GPU_mem   box_loss   cls_loss   dfl_loss  Instances       Size\n"
     ]
    },
    {
     "name": "stderr",
     "output_type": "stream",
     "text": [
      "     67/100      2.57G    0.07152     0.4719     0.8854         19        320: 100%|██████████| 45/45 [00:06<00:00,  7.02it/s]\n",
      "                 Class     Images  Instances      Box(P          R      mAP50  mAP50-95): 100%|██████████| 6/6 [00:01<00:00,  4.09it/s]"
     ]
    },
    {
     "name": "stdout",
     "output_type": "stream",
     "text": [
      "                   all        359        239      0.939      0.936      0.963      0.956\n"
     ]
    },
    {
     "name": "stderr",
     "output_type": "stream",
     "text": [
      "\n"
     ]
    },
    {
     "name": "stdout",
     "output_type": "stream",
     "text": [
      "\n",
      "      Epoch    GPU_mem   box_loss   cls_loss   dfl_loss  Instances       Size\n"
     ]
    },
    {
     "name": "stderr",
     "output_type": "stream",
     "text": [
      "     68/100       2.6G    0.07426     0.4419     0.8959         20        320: 100%|██████████| 45/45 [00:06<00:00,  7.34it/s]\n",
      "                 Class     Images  Instances      Box(P          R      mAP50  mAP50-95): 100%|██████████| 6/6 [00:01<00:00,  4.63it/s]"
     ]
    },
    {
     "name": "stdout",
     "output_type": "stream",
     "text": [
      "                   all        359        239      0.943      0.913      0.952      0.949\n"
     ]
    },
    {
     "name": "stderr",
     "output_type": "stream",
     "text": [
      "\n"
     ]
    },
    {
     "name": "stdout",
     "output_type": "stream",
     "text": [
      "\n",
      "      Epoch    GPU_mem   box_loss   cls_loss   dfl_loss  Instances       Size\n"
     ]
    },
    {
     "name": "stderr",
     "output_type": "stream",
     "text": [
      "     69/100       2.6G    0.07062     0.4358     0.8844         21        320: 100%|██████████| 45/45 [00:06<00:00,  7.32it/s]\n",
      "                 Class     Images  Instances      Box(P          R      mAP50  mAP50-95): 100%|██████████| 6/6 [00:01<00:00,  4.01it/s]"
     ]
    },
    {
     "name": "stdout",
     "output_type": "stream",
     "text": [
      "                   all        359        239      0.945      0.937      0.977      0.975\n"
     ]
    },
    {
     "name": "stderr",
     "output_type": "stream",
     "text": [
      "\n"
     ]
    },
    {
     "name": "stdout",
     "output_type": "stream",
     "text": [
      "\n",
      "      Epoch    GPU_mem   box_loss   cls_loss   dfl_loss  Instances       Size\n"
     ]
    },
    {
     "name": "stderr",
     "output_type": "stream",
     "text": [
      "     70/100      2.62G    0.07395     0.4244     0.8869         15        320: 100%|██████████| 45/45 [00:06<00:00,  6.76it/s]\n",
      "                 Class     Images  Instances      Box(P          R      mAP50  mAP50-95): 100%|██████████| 6/6 [00:01<00:00,  4.38it/s]"
     ]
    },
    {
     "name": "stdout",
     "output_type": "stream",
     "text": [
      "                   all        359        239      0.932      0.951      0.969      0.967\n"
     ]
    },
    {
     "name": "stderr",
     "output_type": "stream",
     "text": [
      "\n"
     ]
    },
    {
     "name": "stdout",
     "output_type": "stream",
     "text": [
      "\n",
      "      Epoch    GPU_mem   box_loss   cls_loss   dfl_loss  Instances       Size\n"
     ]
    },
    {
     "name": "stderr",
     "output_type": "stream",
     "text": [
      "     71/100      2.63G    0.07057      0.418     0.8916         15        320: 100%|██████████| 45/45 [00:06<00:00,  6.78it/s]\n",
      "                 Class     Images  Instances      Box(P          R      mAP50  mAP50-95): 100%|██████████| 6/6 [00:01<00:00,  4.24it/s]"
     ]
    },
    {
     "name": "stdout",
     "output_type": "stream",
     "text": [
      "                   all        359        239      0.932      0.938      0.974      0.973\n"
     ]
    },
    {
     "name": "stderr",
     "output_type": "stream",
     "text": [
      "\n"
     ]
    },
    {
     "name": "stdout",
     "output_type": "stream",
     "text": [
      "\n",
      "      Epoch    GPU_mem   box_loss   cls_loss   dfl_loss  Instances       Size\n"
     ]
    },
    {
     "name": "stderr",
     "output_type": "stream",
     "text": [
      "     72/100      2.66G    0.06784     0.4066     0.8956         17        320: 100%|██████████| 45/45 [00:06<00:00,  7.10it/s]\n",
      "                 Class     Images  Instances      Box(P          R      mAP50  mAP50-95): 100%|██████████| 6/6 [00:01<00:00,  4.66it/s]"
     ]
    },
    {
     "name": "stdout",
     "output_type": "stream",
     "text": [
      "                   all        359        239      0.907      0.913       0.94      0.938\n"
     ]
    },
    {
     "name": "stderr",
     "output_type": "stream",
     "text": [
      "\n"
     ]
    },
    {
     "name": "stdout",
     "output_type": "stream",
     "text": [
      "\n",
      "      Epoch    GPU_mem   box_loss   cls_loss   dfl_loss  Instances       Size\n"
     ]
    },
    {
     "name": "stderr",
     "output_type": "stream",
     "text": [
      "     73/100      2.66G    0.06609     0.4083     0.8914         19        320: 100%|██████████| 45/45 [00:06<00:00,  6.59it/s]\n",
      "                 Class     Images  Instances      Box(P          R      mAP50  mAP50-95): 100%|██████████| 6/6 [00:01<00:00,  3.90it/s]"
     ]
    },
    {
     "name": "stdout",
     "output_type": "stream",
     "text": [
      "                   all        359        239      0.966      0.933      0.979      0.975\n"
     ]
    },
    {
     "name": "stderr",
     "output_type": "stream",
     "text": [
      "\n"
     ]
    },
    {
     "name": "stdout",
     "output_type": "stream",
     "text": [
      "\n",
      "      Epoch    GPU_mem   box_loss   cls_loss   dfl_loss  Instances       Size\n"
     ]
    },
    {
     "name": "stderr",
     "output_type": "stream",
     "text": [
      "     74/100      2.68G    0.06493     0.4108     0.8876         19        320: 100%|██████████| 45/45 [00:06<00:00,  7.08it/s]\n",
      "                 Class     Images  Instances      Box(P          R      mAP50  mAP50-95): 100%|██████████| 6/6 [00:01<00:00,  4.13it/s]"
     ]
    },
    {
     "name": "stdout",
     "output_type": "stream",
     "text": [
      "                   all        359        239      0.953      0.898      0.968      0.966\n"
     ]
    },
    {
     "name": "stderr",
     "output_type": "stream",
     "text": [
      "\n"
     ]
    },
    {
     "name": "stdout",
     "output_type": "stream",
     "text": [
      "\n",
      "      Epoch    GPU_mem   box_loss   cls_loss   dfl_loss  Instances       Size\n"
     ]
    },
    {
     "name": "stderr",
     "output_type": "stream",
     "text": [
      "     75/100      2.69G    0.06546     0.4133     0.8858         29        320: 100%|██████████| 45/45 [00:06<00:00,  7.28it/s]\n",
      "                 Class     Images  Instances      Box(P          R      mAP50  mAP50-95): 100%|██████████| 6/6 [00:01<00:00,  4.99it/s]"
     ]
    },
    {
     "name": "stdout",
     "output_type": "stream",
     "text": [
      "                   all        359        239       0.93      0.953      0.971      0.965\n",
      "\u001b[34m\u001b[1mEarlyStopping: \u001b[0mTraining stopped early as no improvement observed in last 20 epochs. Best results observed at epoch 55, best model saved as best.pt.\n",
      "To update EarlyStopping(patience=20) pass a new patience value, i.e. `patience=300` or use `patience=0` to disable EarlyStopping.\n"
     ]
    },
    {
     "name": "stderr",
     "output_type": "stream",
     "text": [
      "\n"
     ]
    },
    {
     "name": "stdout",
     "output_type": "stream",
     "text": [
      "\n",
      "75 epochs completed in 0.171 hours.\n",
      "Optimizer stripped from runs\\detect\\birds_320_python_run1_noprint10\\weights\\last.pt, 5.4MB\n",
      "Optimizer stripped from runs\\detect\\birds_320_python_run1_noprint10\\weights\\best.pt, 5.4MB\n",
      "\n",
      "Validating runs\\detect\\birds_320_python_run1_noprint10\\weights\\best.pt...\n",
      "Ultralytics 8.3.101  Python-3.12.9 torch-2.6.0+cu118 CUDA:0 (NVIDIA GeForce RTX 2060 SUPER, 8192MiB)\n",
      "YOLO11n summary (fused): 100 layers, 2,584,102 parameters, 0 gradients, 6.3 GFLOPs\n"
     ]
    },
    {
     "name": "stderr",
     "output_type": "stream",
     "text": [
      "                 Class     Images  Instances      Box(P          R      mAP50  mAP50-95): 100%|██████████| 6/6 [00:01<00:00,  3.55it/s]\n"
     ]
    },
    {
     "name": "stdout",
     "output_type": "stream",
     "text": [
      "                   all        359        239      0.949      0.927      0.981      0.978\n",
      "  Australasian_Bittern         15         15          1      0.781      0.959      0.959\n",
      "Australian_Painted_Snipe          9          9       0.86          1      0.984      0.984\n",
      "    Gang-gang_Cockatoo         80         80       0.93       0.99      0.991       0.97\n",
      "           Grey_Falcon          9          9      0.985      0.889      0.984      0.984\n",
      "    Painted_Honeyeater         21         21      0.947      0.952      0.976      0.976\n",
      "             Pilotbird         13         13          1      0.801       0.99       0.99\n",
      "       Plains_Wanderer          5          5      0.832          1      0.962      0.962\n",
      "    Southern_Whiteface         47         47      0.976      0.957      0.983      0.969\n",
      "          Swift_Parrot         22         22      0.984      0.955      0.989      0.989\n",
      "White-throated_Needletail         18         18      0.978      0.944      0.992      0.992\n",
      "Speed: 0.1ms preprocess, 0.8ms inference, 0.0ms loss, 1.4ms postprocess per image\n",
      "Results saved to \u001b[1mruns\\detect\\birds_320_python_run1_noprint10\u001b[0m\n",
      "\n",
      "--- Training Finished ---\n",
      "Results, weights, and logs saved in: runs\\detect\\birds_320_python_run1_noprint10\n",
      "Best model weights (used for evaluation) saved at: runs\\detect\\birds_320_python_run1_noprint10\\weights/best.pt\n",
      "\n",
      "To analyze training curves (loss, mAP), run in your terminal: tensorboard --logdir 'C:\\Users\\Admin\\Documents\\FIT5120_MAI_Assignment\\runs\\detect\\birds_320_python_run1_noprint10'\n",
      "Check validation curves for overfitting (train loss decreasing, val loss increasing) or underfitting.\n"
     ]
    }
   ],
   "source": [
    "print(\"=============================================\")\n",
    "print(\" Starting YOLOv8 Training & Evaluation Script\")\n",
    "print(\"=============================================\")\n",
    "print(f\"Configuration:\")\n",
    "print(f\"  Base Model: {base_model_path}\")\n",
    "print(f\"  Dataset YAML: {data_yaml_path}\")\n",
    "print(f\"  Epochs: {num_epochs}\")\n",
    "print(f\"  Image Size: {image_size}\")\n",
    "print(f\"  Batch Size: {batch_size}\")\n",
    "print(f\"  Run Name: {run_name}\")\n",
    "print(f\"  Device: {device_to_use}\")\n",
    "print(f\"  Evaluate on Test Set: {evaluate_on_test_set}\")\n",
    "print(f\"  Confidence Threshold: {confidence_threshold}\")\n",
    "print(f\"  IoU Threshold: {iou_threshold}\")\n",
    "# print(f\"  Log File: N/A (Using print statements)\") # Removed logging\n",
    "\n",
    "# **MAI Requirement:** Diagnosing issues before deployment (Pre-computation checks)\n",
    "print(\"\\n--- Checking Dataset Configuration ---\")\n",
    "valid_yaml, data_config = check_dataset_yaml(data_yaml_path)\n",
    "if not valid_yaml:\n",
    "    raise Exception(\"Exiting due to dataset YAML issues.\")\n",
    "\n",
    "# Check device availability\n",
    "print(\"\\n--- Checking Device ---\")\n",
    "if device_to_use == 'cuda' and not torch.cuda.is_available():\n",
    "    print(\"WARNING: CUDA selected but not available. Switching to CPU.\")\n",
    "    device_to_use = 'cpu'\n",
    "elif device_to_use != 'cpu' and not isinstance(device_to_use, int) and not device_to_use.startswith('cuda'):\n",
    "     try:\n",
    "         device_to_use_int = int(device_to_use)\n",
    "         print(f\"Interpreting device '{device_to_use}' as GPU index {device_to_use_int}.\")\n",
    "         device_to_use = device_to_use_int # Use the integer index\n",
    "     except ValueError:\n",
    "         print(f\"WARNING: Invalid device specified: {device_to_use}. Defaulting to CPU.\")\n",
    "         device_to_use = 'cpu'\n",
    "print(f\"Using device: {device_to_use}\")\n",
    "\n",
    "\n",
    "training_results = None\n",
    "best_model_path = None\n",
    "training_run_dir = None\n",
    "\n",
    "try:\n",
    "    # 1. Load the base model\n",
    "    print(\"\\n--- Loading Base Model ---\")\n",
    "    model = YOLO(base_model_path)\n",
    "    print(f\"Loaded base model: {base_model_path}\")\n",
    "\n",
    "    # 2. Start Training\n",
    "    # **MAI Requirement:** Monitor training progress (Ultralytics outputs to console).\n",
    "    print(\"\\n--- Initiating Training ---\")\n",
    "    # Add other relevant parameters from your CLI command if needed\n",
    "    training_results = model.train(\n",
    "        data=data_yaml_path,\n",
    "        imgsz=image_size,\n",
    "        epochs=num_epochs,\n",
    "        batch=batch_size,\n",
    "        name=run_name,\n",
    "        device=device_to_use,\n",
    "        exist_ok=False, # Prevent overwriting previous runs unless intended\n",
    "        # Common parameters for robustness / better training:\n",
    "        patience=20,\n",
    "        # workers=8,\n",
    "        # augment=True,\n",
    "        # degrees=10.0,\n",
    "        # fliplr=0.5,\n",
    "        # close_mosaic=10,\n",
    "    )\n",
    "\n",
    "    print(\"\\n--- Training Finished ---\")\n",
    "    # The results object contains paths and potentially final metrics\n",
    "    training_run_dir = training_results.save_dir # e.g., runs/detect/birds_320_python_run1\n",
    "    best_model_path = os.path.join(training_run_dir, 'weights/best.pt')\n",
    "    print(f\"Results, weights, and logs saved in: {training_run_dir}\")\n",
    "    print(f\"Best model weights (used for evaluation) saved at: {best_model_path}\")\n",
    "\n",
    "    # **MAI Requirement:** Diagnosing issues after training (Analyzing Training Runs)\n",
    "    print(f\"\\nTo analyze training curves (loss, mAP), run in your terminal: tensorboard --logdir '{os.path.abspath(training_run_dir)}'\")\n",
    "    print(\"Check validation curves for overfitting (train loss decreasing, val loss increasing) or underfitting.\")\n",
    "\n",
    "\n",
    "except Exception as e:\n",
    "    print(f\"\\nERROR: An error occurred during training: {e}\")\n",
    "    print(\"Traceback:\")\n",
    "    traceback.print_exc()"
   ]
  },
  {
   "cell_type": "markdown",
   "id": "8b32d57b-6f50-4b35-ad46-4da9fdbd0854",
   "metadata": {},
   "source": [
    "## Testing/Inference"
   ]
  },
  {
   "cell_type": "code",
   "execution_count": 20,
   "id": "57c75b06-ad24-4061-abac-22db7395c4c0",
   "metadata": {},
   "outputs": [
    {
     "name": "stdout",
     "output_type": "stream",
     "text": [
      "--- Starting YOLOv8 Class Evaluation ---\n",
      "Loading model from: ./runs/detect/birds_320_python_run1_noprint10/weights/best.pt\n",
      "Using device: cuda\n",
      "Confidence Threshold for evaluation: 0.55\n",
      "Model loaded successfully.\n",
      "Model knows 10 classes: ['Australasian_Bittern', 'Australian_Painted_Snipe', 'Gang-gang_Cockatoo', 'Grey_Falcon', 'Painted_Honeyeater', 'Pilotbird', 'Plains_Wanderer', 'Southern_Whiteface', 'Swift_Parrot', 'White-throated_Needletail']\n",
      "\n",
      "Found 11 class folders to evaluate: ['Australasian_Bittern', 'Australian_Painted_Snipe', 'Gang-gang_Cockatoo', 'Grey_Falcon', 'negative_images', 'Painted_Honeyeater', 'Pilotbird', 'Plains_Wanderer', 'Southern_Whiteface', 'Swift_Parrot', 'White-throated_Needletail']\n",
      "\n",
      "--- Evaluating Class: Australasian_Bittern (5 images) ---\n",
      "  WRONG: Found Australian_Painted_Snipe instead of Australasian_Bittern in 900.jpg (Conf: 0.94)\n",
      "  MISS: No detection in IMG_0589-Bob-Green.jpg\n",
      "\n",
      "--- Evaluating Class: Australian_Painted_Snipe (5 images) ---\n",
      "\n",
      "--- Evaluating Class: Gang-gang_Cockatoo (5 images) ---\n",
      "  MISS: No detection in gang-gang-flickr.jpg\n",
      "\n",
      "--- Evaluating Class: Grey_Falcon (5 images) ---\n",
      "\n",
      "--- Evaluating Class: negative_images (227 images) ---\n",
      "  FALSE POSITIVE: Detected Gang-gang_Cockatoo in negative image 000000000072.jpg (Conf: 0.86)\n",
      "  FALSE POSITIVE: Detected Painted_Honeyeater in negative image 000000000092.jpg (Conf: 0.92)\n",
      "  FALSE POSITIVE: Detected Southern_Whiteface in negative image 000000098261.jpg (Conf: 0.76)\n",
      "  FALSE POSITIVE: Detected Grey_Falcon in negative image 000000100489.jpg (Conf: 0.82)\n",
      "  FALSE POSITIVE: Detected Gang-gang_Cockatoo in negative image 000000106881.jpg (Conf: 0.98)\n",
      "  FALSE POSITIVE: Detected Australian_Painted_Snipe in negative image 000000122927.jpg (Conf: 0.58)\n",
      "  FALSE POSITIVE: Detected Gang-gang_Cockatoo in negative image 000000149622.jpg (Conf: 0.99)\n",
      "  FALSE POSITIVE: Detected Gang-gang_Cockatoo in negative image 000000222235.jpg (Conf: 0.98)\n",
      "  FALSE POSITIVE: Detected Australasian_Bittern in negative image 000000264335.jpg (Conf: 0.89)\n",
      "  FALSE POSITIVE: Detected Southern_Whiteface in negative image 000000309452.jpg (Conf: 0.78)\n",
      "  FALSE POSITIVE: Detected Swift_Parrot in negative image 000000315001.jpg (Conf: 0.56)\n",
      "  FALSE POSITIVE: Detected Gang-gang_Cockatoo in negative image 000000337987.jpg (Conf: 0.98)\n",
      "  FALSE POSITIVE: Detected Swift_Parrot in negative image 000000475904.jpg (Conf: 0.63)\n",
      "  FALSE POSITIVE: Detected Gang-gang_Cockatoo in negative image 000000489046.jpg (Conf: 0.55)\n",
      "  FALSE POSITIVE: Detected Australasian_Bittern in negative image 000000544811.jpg (Conf: 0.57)\n",
      "\n",
      "--- Evaluating Class: Painted_Honeyeater (5 images) ---\n",
      "\n",
      "--- Evaluating Class: Pilotbird (6 images) ---\n",
      "  WRONG: Found Southern_Whiteface instead of Pilotbird in pilotb_rp_20180809_8_big.jpg (Conf: 0.79)\n",
      "\n",
      "--- Evaluating Class: Plains_Wanderer (10 images) ---\n",
      "  MISS: No detection in 320.jpg\n",
      "  MISS: No detection in images (1).jpg\n",
      "\n",
      "--- Evaluating Class: Southern_Whiteface (5 images) ---\n",
      "\n",
      "--- Evaluating Class: Swift_Parrot (5 images) ---\n",
      "\n",
      "--- Evaluating Class: White-throated_Needletail (4 images) ---\n",
      "\n",
      "\n",
      "--- Evaluation Summary ---\n",
      "Confidence Threshold used: 0.55\n",
      "\n",
      "Positive Class Performance:\n",
      "\n",
      "  Class: Australasian_Bittern (5 images)\n",
      "    - Correctly Classified: 3 (60.0%)\n",
      "    - Misclassified As Other: 1\n",
      "    - Missed (No Detection): 1\n",
      "\n",
      "  Class: Australian_Painted_Snipe (5 images)\n",
      "    - Correctly Classified: 5 (100.0%)\n",
      "    - Misclassified As Other: 0\n",
      "    - Missed (No Detection): 0\n",
      "\n",
      "  Class: Gang-gang_Cockatoo (5 images)\n",
      "    - Correctly Classified: 4 (80.0%)\n",
      "    - Misclassified As Other: 0\n",
      "    - Missed (No Detection): 1\n",
      "\n",
      "  Class: Grey_Falcon (5 images)\n",
      "    - Correctly Classified: 5 (100.0%)\n",
      "    - Misclassified As Other: 0\n",
      "    - Missed (No Detection): 0\n",
      "\n",
      "  Class: Painted_Honeyeater (5 images)\n",
      "    - Correctly Classified: 5 (100.0%)\n",
      "    - Misclassified As Other: 0\n",
      "    - Missed (No Detection): 0\n",
      "\n",
      "  Class: Pilotbird (6 images)\n",
      "    - Correctly Classified: 5 (83.3%)\n",
      "    - Misclassified As Other: 1\n",
      "    - Missed (No Detection): 0\n",
      "\n",
      "  Class: Plains_Wanderer (10 images)\n",
      "    - Correctly Classified: 8 (80.0%)\n",
      "    - Misclassified As Other: 0\n",
      "    - Missed (No Detection): 2\n",
      "\n",
      "  Class: Southern_Whiteface (5 images)\n",
      "    - Correctly Classified: 5 (100.0%)\n",
      "    - Misclassified As Other: 0\n",
      "    - Missed (No Detection): 0\n",
      "\n",
      "  Class: Swift_Parrot (5 images)\n",
      "    - Correctly Classified: 5 (100.0%)\n",
      "    - Misclassified As Other: 0\n",
      "    - Missed (No Detection): 0\n",
      "\n",
      "  Class: White-throated_Needletail (4 images)\n",
      "    - Correctly Classified: 4 (100.0%)\n",
      "    - Misclassified As Other: 0\n",
      "    - Missed (No Detection): 0\n",
      "\n",
      "Negative Image Performance:\n",
      "  Total Negative Images: 227\n",
      "    - Correctly Ignored (No Detection): 212 (93.4%)\n",
      "    - False Positives (Detections Found): 15 (6.6%)\n",
      "\n",
      "Evaluation complete.\n"
     ]
    }
   ],
   "source": [
    "##### --- Configuration ---\n",
    "\n",
    "# 1. PATH TO YOUR TRAINED MODEL\n",
    "model_path = './runs/detect/birds_320_python_run1_noprint10/weights/best.pt' # ADJUST THIS\n",
    "\n",
    "# 2. INPUT SOURCE: Path to the PARENT directory containing class subfolders\n",
    "test_base_dir = './test_images/' # Directory containing 'Australasian_Bittern', ..., 'negative_images'\n",
    "\n",
    "# 3. Name of the folder containing negative images (must match exactly)\n",
    "negative_folder_name = \"negative_images\"\n",
    "\n",
    "# 4. INFERENCE PARAMETERS\n",
    "confidence_threshold = 0.55 # Adjust as needed - crucial for this evaluation\n",
    "iou_threshold = 0.5       # IoU threshold for Non-Maximum Suppression (NMS)\n",
    "device_to_use = 'cuda' if torch.cuda.is_available() else 'cpu'\n",
    "\n",
    "# 5. Output control (optional, less relevant for this script)\n",
    "# save_visualizations = False # Set to True to save annotated images in runs/detect/predict*\n",
    "# output_dir_viz = './inference_results_eval/' # Only used if save_visualizations is True\n",
    "\n",
    "# --- Initialization ---\n",
    "print(\"--- Starting YOLOv8 Class Evaluation ---\")\n",
    "results_summary = defaultdict(lambda: {\"correct\": 0, \"incorrect\": 0, \"missed\": 0, \"total\": 0})\n",
    "negative_summary = {\"correct_neg\": 0, \"false_pos\": 0, \"total\": 0}\n",
    "\n",
    "# --- Checks ---\n",
    "if not os.path.exists(model_path):\n",
    "    print(f\"ERROR: Model weights not found at: {model_path}\")\n",
    "    exit()\n",
    "if not os.path.isdir(test_base_dir):\n",
    "    print(f\"ERROR: Test base directory not found at: {test_base_dir}\")\n",
    "    exit()\n",
    "\n",
    "print(f\"Loading model from: {model_path}\")\n",
    "print(f\"Using device: {device_to_use}\")\n",
    "print(f\"Confidence Threshold for evaluation: {confidence_threshold}\")\n",
    "\n",
    "try:\n",
    "    # 1. Load the trained model\n",
    "    model = YOLO(model_path)\n",
    "    model.to(device_to_use)\n",
    "    print(\"Model loaded successfully.\")\n",
    "    known_classes = list(model.names.values())\n",
    "    print(f\"Model knows {len(known_classes)} classes: {known_classes}\")\n",
    "\n",
    "    # 2. Iterate through class subdirectories\n",
    "    class_folders = [d for d in os.listdir(test_base_dir) if os.path.isdir(os.path.join(test_base_dir, d))]\n",
    "    print(f\"\\nFound {len(class_folders)} class folders to evaluate: {class_folders}\")\n",
    "\n",
    "    for ground_truth_class in class_folders:\n",
    "        class_dir_path = os.path.join(test_base_dir, ground_truth_class)\n",
    "        image_files = [f for f in os.listdir(class_dir_path) if f.lower().endswith(('.png', '.jpg', '.jpeg', '.webp'))]\n",
    "\n",
    "        if not image_files:\n",
    "            print(f\"Skipping empty folder: {ground_truth_class}\")\n",
    "            continue\n",
    "\n",
    "        print(f\"\\n--- Evaluating Class: {ground_truth_class} ({len(image_files)} images) ---\")\n",
    "\n",
    "        # Update total count for the class or negative summary\n",
    "        if ground_truth_class == negative_folder_name:\n",
    "             negative_summary[\"total\"] = len(image_files)\n",
    "        else:\n",
    "             results_summary[ground_truth_class][\"total\"] = len(image_files)\n",
    "\n",
    "        for img_file in image_files:\n",
    "            img_path = os.path.join(class_dir_path, img_file)\n",
    "\n",
    "            # Run prediction on the single image\n",
    "            # Turn off saving unless specifically needed for debugging\n",
    "            results = model.predict(\n",
    "                source=img_path,\n",
    "                conf=confidence_threshold,\n",
    "                iou=iou_threshold,\n",
    "                device=device_to_use,\n",
    "                save=False, # Usually False for programmatic eval\n",
    "                save_txt=False,\n",
    "                verbose=False # Suppress per-image output\n",
    "            )\n",
    "\n",
    "            # Process results for this single image\n",
    "            result = results[0] # Get the result object for the first (only) image\n",
    "            boxes = result.boxes\n",
    "\n",
    "            # --- Evaluation Logic ---\n",
    "            is_negative_ground_truth = (ground_truth_class == negative_folder_name)\n",
    "\n",
    "            if not is_negative_ground_truth:\n",
    "                # --- Case 1: Ground Truth is a specific Bird Class ---\n",
    "                if boxes.shape[0] == 0:\n",
    "                    # No detection -> Missed (False Negative)\n",
    "                    results_summary[ground_truth_class][\"missed\"] += 1\n",
    "                    print(f\"  MISS: No detection in {img_file}\")\n",
    "                else:\n",
    "                    # Detections found -> Check the highest confidence prediction\n",
    "                    best_pred_idx = boxes.conf.argmax()\n",
    "                    pred_class_id = int(boxes.cls[best_pred_idx].item())\n",
    "                    pred_class_name = model.names[pred_class_id]\n",
    "                    pred_conf = boxes.conf[best_pred_idx].item()\n",
    "\n",
    "                    if pred_class_name == ground_truth_class:\n",
    "                        # Correct detection & classification\n",
    "                        results_summary[ground_truth_class][\"correct\"] += 1\n",
    "                        # print(f\"  OK: Correctly found {pred_class_name} in {img_file} (Conf: {pred_conf:.2f})\") # Optional detail\n",
    "                    else:\n",
    "                        # Incorrect classification (Misclassification)\n",
    "                        results_summary[ground_truth_class][\"incorrect\"] += 1\n",
    "                        print(f\"  WRONG: Found {pred_class_name} instead of {ground_truth_class} in {img_file} (Conf: {pred_conf:.2f})\")\n",
    "            else:\n",
    "                # --- Case 2: Ground Truth is Negative Image ---\n",
    "                if boxes.shape[0] == 0:\n",
    "                    # Correctly detected nothing\n",
    "                    negative_summary[\"correct_neg\"] += 1\n",
    "                else:\n",
    "                    # Incorrectly detected something (False Positive)\n",
    "                    negative_summary[\"false_pos\"] += 1\n",
    "                    # Log what was detected (optional)\n",
    "                    best_pred_idx = boxes.conf.argmax()\n",
    "                    pred_class_id = int(boxes.cls[best_pred_idx].item())\n",
    "                    pred_class_name = model.names[pred_class_id]\n",
    "                    pred_conf = boxes.conf[best_pred_idx].item()\n",
    "                    print(f\"  FALSE POSITIVE: Detected {pred_class_name} in negative image {img_file} (Conf: {pred_conf:.2f})\")\n",
    "\n",
    "            # Optional: Add a small delay to prevent potential CUDA OOM on rapid calls, adjust if needed\n",
    "            # time.sleep(0.01)\n",
    "\n",
    "\n",
    "    # 3. Print Summary Report\n",
    "    print(\"\\n\\n--- Evaluation Summary ---\")\n",
    "    print(f\"Confidence Threshold used: {confidence_threshold}\")\n",
    "\n",
    "    # Print results for each positive class\n",
    "    print(\"\\nPositive Class Performance:\")\n",
    "    for class_name, counts in sorted(results_summary.items()):\n",
    "        total = counts['total']\n",
    "        if total == 0: continue\n",
    "        correct = counts['correct']\n",
    "        incorrect = counts['incorrect']\n",
    "        missed = counts['missed']\n",
    "        accuracy = (correct / total) * 100 if total > 0 else 0\n",
    "        print(f\"\\n  Class: {class_name} ({total} images)\")\n",
    "        print(f\"    - Correctly Classified: {correct} ({accuracy:.1f}%)\")\n",
    "        print(f\"    - Misclassified As Other: {incorrect}\")\n",
    "        print(f\"    - Missed (No Detection): {missed}\")\n",
    "\n",
    "    # Print results for the negative class\n",
    "    print(\"\\nNegative Image Performance:\")\n",
    "    neg_total = negative_summary['total']\n",
    "    if neg_total == 0:\n",
    "         print(\"  No negative images processed.\")\n",
    "    else:\n",
    "        correct_neg = negative_summary['correct_neg']\n",
    "        false_pos = negative_summary['false_pos']\n",
    "        correct_neg_rate = (correct_neg / neg_total) * 100 if neg_total > 0 else 0\n",
    "        fp_rate = (false_pos / neg_total) * 100 if neg_total > 0 else 0\n",
    "        print(f\"  Total Negative Images: {neg_total}\")\n",
    "        print(f\"    - Correctly Ignored (No Detection): {correct_neg} ({correct_neg_rate:.1f}%)\")\n",
    "        print(f\"    - False Positives (Detections Found): {false_pos} ({fp_rate:.1f}%)\")\n",
    "\n",
    "    print(\"\\nEvaluation complete.\")\n",
    "\n",
    "except Exception as e:\n",
    "    print(f\"\\nAn error occurred during evaluation: {e}\")\n",
    "    import traceback\n",
    "    traceback.print_exc()"
   ]
  },
  {
   "cell_type": "code",
   "execution_count": null,
   "id": "0e6807c6-1b42-40c8-ae02-0ddeaf8cf792",
   "metadata": {},
   "outputs": [],
   "source": []
  },
  {
   "cell_type": "code",
   "execution_count": null,
   "id": "e97f370b-0473-46fd-a722-3e9c8e1e739d",
   "metadata": {},
   "outputs": [],
   "source": []
  }
 ],
 "metadata": {
  "kernelspec": {
   "display_name": "Python 3 (ipykernel)",
   "language": "python",
   "name": "python3"
  },
  "language_info": {
   "codemirror_mode": {
    "name": "ipython",
    "version": 3
   },
   "file_extension": ".py",
   "mimetype": "text/x-python",
   "name": "python",
   "nbconvert_exporter": "python",
   "pygments_lexer": "ipython3",
   "version": "3.12.9"
  },
  "varInspector": {
   "cols": {
    "lenName": 16,
    "lenType": 16,
    "lenVar": 40
   },
   "kernels_config": {
    "python": {
     "delete_cmd_postfix": "",
     "delete_cmd_prefix": "del ",
     "library": "var_list.py",
     "varRefreshCmd": "print(var_dic_list())"
    },
    "r": {
     "delete_cmd_postfix": ") ",
     "delete_cmd_prefix": "rm(",
     "library": "var_list.r",
     "varRefreshCmd": "cat(var_dic_list()) "
    }
   },
   "types_to_exclude": [
    "module",
    "function",
    "builtin_function_or_method",
    "instance",
    "_Feature"
   ],
   "window_display": false
  }
 },
 "nbformat": 4,
 "nbformat_minor": 5
}
